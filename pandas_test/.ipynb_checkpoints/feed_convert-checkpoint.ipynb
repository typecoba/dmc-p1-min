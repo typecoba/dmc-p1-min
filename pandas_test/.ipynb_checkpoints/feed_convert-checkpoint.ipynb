{
 "cells": [
  {
   "cell_type": "markdown",
   "metadata": {},
   "source": [
    "### import"
   ]
  },
  {
   "cell_type": "code",
   "execution_count": 1,
   "metadata": {},
   "outputs": [],
   "source": [
    "import pandas as pd\n",
    "from lxml import etree\n",
    "import os\n",
    "import gc\n",
    "import zipfile"
   ]
  },
  {
   "cell_type": "markdown",
   "metadata": {},
   "source": [
    "### parameter"
   ]
  },
  {
   "cell_type": "code",
   "execution_count": 2,
   "metadata": {},
   "outputs": [],
   "source": [
    "config = {'media': \n",
    "              {\n",
    "                'name': 'facebook',\n",
    "                'catalog_id' : '',\n",
    "                'feed_id' : ''\n",
    "              },          \n",
    "          'name':'test_csv',\n",
    "          'load':\n",
    "          {\n",
    "            'path' : 'C:\\\\Users\\\\shsun\\\\Documents\\\\workspace\\\\project\\\\p1\\\\f1_feed_change_min\\\\fastapi\\\\data\\\\ep\\\\ep_catalogid_268046537186348.csv',\n",
    "            'format' : 'csv',\n",
    "            'encoding' : 'utf-16',\n",
    "            'chunkSize' : 1\n",
    "          },\n",
    "#           {\n",
    "#               'path': '',\n",
    "#               'format': 'xml',\n",
    "#               'encoding': 'utf-8', \n",
    "#           }\n",
    "          'save':{\n",
    "            'path': 'C:/Users/shsun/Documents/workspace/project/p1/f1_feed_change_min/data/saved_test.txt',\n",
    "            'encoding' : 'utf-8'\n",
    "          },\n",
    "          'zip':{\n",
    "            'path': 'C:/Users/shsun/Documents/workspace/project/p1/f1_feed_change_min/data/zip_test.zip',\n",
    "          },\n",
    "          'filter':{\n",
    "            'add' : {'id': ['1000034458560']},\n",
    "            'remove' : {'id': ['1000034458560','1000034461158','1000034480247']},\n",
    "             # ep to fb field\n",
    "            'fields' : {'id' : 'convert_id',\n",
    "                        'title' : 'convert_title',\n",
    "                        'description' : 'convert_description'}\n",
    "          },\n",
    "          'testFlag': 'Y'\n",
    "         }"
   ]
  },
  {
   "cell_type": "markdown",
   "metadata": {},
   "source": [
    "### filter class"
   ]
  },
  {
   "cell_type": "code",
   "execution_count": 3,
   "metadata": {},
   "outputs": [
    {
     "output_type": "execute_result",
     "data": {
      "text/plain": [
       "'\\n// 기본\\nclass FeedConvert(config):\\n    def load\\n        \\n    def convert\\n        df.apply(lambda x : customConvert(x), axis=1)    \\n        df.apply(lambda x : mediaConvert(x), axis=1)\\n        \\n    def write\\n        \\n    def upload\\n        \\n\\n// 고객사별 조건\\ndef customConvert(df)    \\n    -lambda로 실행\\n    -관리편의를 위해 로직을 catalog id기준으로 묶어놓음\\n    -add/remove\\n    -fit field\\n    -replace value\\n    -set link\\n    -default value\\n\\n// 매체별 조건 (생략?)\\ndef FacebookConvert()\\ndef GoogleConvert()\\ndef CriteoConvert()\\n\\n// test 용이하도록\\n\\n// log 확인 \\n\\n// linux process 관리가능? \\n\\n'"
      ]
     },
     "metadata": {},
     "execution_count": 3
    }
   ],
   "source": [
    "'''\n",
    "// 기본\n",
    "class FeedConvert(config):\n",
    "    def load\n",
    "        \n",
    "    def convert\n",
    "        df.apply(lambda x : customConvert(x), axis=1)    \n",
    "        df.apply(lambda x : mediaConvert(x), axis=1)\n",
    "        \n",
    "    def write\n",
    "        \n",
    "    def upload\n",
    "        \n",
    "\n",
    "// 고객사별 조건\n",
    "def customConvert(df)    \n",
    "    -lambda로 실행\n",
    "    -관리편의를 위해 로직을 catalog id기준으로 묶어놓음\n",
    "    -add/remove\n",
    "    -fit field\n",
    "    -replace value\n",
    "    -set link\n",
    "    -default value\n",
    "\n",
    "// 매체별 조건 (생략?)\n",
    "def FacebookConvert()\n",
    "def GoogleConvert()\n",
    "def CriteoConvert()\n",
    "\n",
    "// test 용이하도록\n",
    "\n",
    "// log 확인 \n",
    "\n",
    "// linux process 관리가능? \n",
    "\n",
    "'''"
   ]
  },
  {
   "cell_type": "code",
   "execution_count": 4,
   "metadata": {},
   "outputs": [
    {
     "output_type": "error",
     "ename": "SyntaxError",
     "evalue": "invalid syntax (<ipython-input-4-26fcf944bd0f>, line 14)",
     "traceback": [
      "\u001b[1;36m  File \u001b[1;32m\"<ipython-input-4-26fcf944bd0f>\"\u001b[1;36m, line \u001b[1;32m14\u001b[0m\n\u001b[1;33m    df =\u001b[0m\n\u001b[1;37m         ^\u001b[0m\n\u001b[1;31mSyntaxError\u001b[0m\u001b[1;31m:\u001b[0m invalid syntax\n"
     ]
    }
   ],
   "source": [
    "class FeedConvert():\n",
    "    def __init__(self,config):\n",
    "        self.config = config\n",
    "    \n",
    "    def customConvert(self, df):\n",
    "        if self.config['media']['catalog_id'] == '0000000':\n",
    "            # add\n",
    "            if self.config['filter']['add'] is not None:\n",
    "                df = df[[]]\n",
    "            # remove\n",
    "            if self.config['filter']['remove'] is not None:\n",
    "                df = df[[]]            \n",
    "            # set feild \n",
    "            df = \n",
    "            \n",
    "            # replace value\n",
    "            \n",
    "            # set link\n",
    "            \n",
    "            return df\n",
    "        \n",
    "        else if config['catalog_id'] == '0000000':\n",
    "            #\n",
    "            \n",
    "        return result\n",
    "    def mediaConvert():\n",
    "        pass"
   ]
  },
  {
   "cell_type": "code",
   "execution_count": 5,
   "metadata": {},
   "outputs": [],
   "source": [
    "\n",
    "class FeedConvertProcess():        \n",
    "    def __init__(self, config):\n",
    "        self.config = config\n",
    "        #print(self.config)\n",
    "        \n",
    "    def epLoad(self):\n",
    "        # 클래스로 따로 빼야하나?\n",
    "        \n",
    "        # pixel로 관리되는 tracking data\n",
    "        \n",
    "        # ep데이터 있는경우\n",
    "        if self.config['load']['format'] == 'xml':\n",
    "            # xml은 따로 로드함\n",
    "            result = etree.iterparse(self.config['laod']['path'])\n",
    "            \n",
    "        else:\n",
    "            # chunksize 단위로 쪼개서 로드        \n",
    "            result = pd.read_csv(self.config['load']['path'], \n",
    "                                 chunksize=self.config['load']['chunkSize'], \n",
    "                                 delimiter=',', \n",
    "                                 encoding=self.config['load']['encoding'])\n",
    "            \n",
    "        return result\n",
    "        \n",
    "        \n",
    "    def ep2Feed(self, df):\n",
    "        \n",
    "        # custom convert\n",
    "        result = df.apply(lambda x : customConvert(self, self.config, df), axis=1)\n",
    "        # media convert\n",
    "        #result = df\n",
    "        return result\n",
    "\n",
    "    def feedWrite(self, num, df):\n",
    "        if num == 0:\n",
    "            df.to_csv(self.config['save']['path'], index=True, sep='\\t', mode='w', encoding=self.config['save']['encoding'])\n",
    "        else:\n",
    "            df.to_csv(self.config['save']['path'], index=True, sep='\\t', mode='a', encoding=self.config['save']['encoding'], header=False)\n",
    "    \n",
    "    def feedUpload(self):\n",
    "        # zip\n",
    "        zf = zipfile.ZipFile(self.config['zip']['path'], mode='w')\n",
    "        zf.write(self.config['save']['path'], compress_type=zipfile.ZIP_DEFLATED)\n",
    "        zf.close()\n",
    "        # upload\n",
    "        \n",
    "        # delete\n",
    "\n",
    "\n",
    "    def execute(self):                \n",
    "        for num, chunkDF in enumerate(self.epLoad()):\n",
    "            print(chunkDF)\n",
    "            # convert\n",
    "            chunkDF = self.ep2Feed(chunkDF)\n",
    "            \n",
    "            # file write\n",
    "            self.feedWrite(num, chunkDF)\n",
    "            \n",
    "            # cleaning\n",
    "            del [[chunkDF]] \n",
    "            gc.collect()\n",
    "            \n",
    "            # break\n",
    "            if self.config['testFlag'] == 'Y' or num >= 10:\n",
    "                break\n",
    "                \n",
    "        \n",
    "        #feedUpload()\n",
    "        "
   ]
  },
  {
   "cell_type": "code",
   "execution_count": 6,
   "metadata": {},
   "outputs": [],
   "source": [
    "fcp = FeedConvertProcess(config)"
   ]
  },
  {
   "cell_type": "code",
   "execution_count": 7,
   "metadata": {},
   "outputs": [
    {
     "output_type": "error",
     "ename": "FileNotFoundError",
     "evalue": "[Errno 2] No such file or directory: 'C:/Users/shsun/Documents/workspace/project/p1/f1_feed_change_min/data/dumy_10g.csv'",
     "traceback": [
      "\u001b[1;31m---------------------------------------------------------------------------\u001b[0m",
      "\u001b[1;31mFileNotFoundError\u001b[0m                         Traceback (most recent call last)",
      "\u001b[1;32m<ipython-input-7-7e5c685b4ae4>\u001b[0m in \u001b[0;36m<module>\u001b[1;34m\u001b[0m\n\u001b[1;32m----> 1\u001b[1;33m \u001b[0mfcp\u001b[0m\u001b[1;33m.\u001b[0m\u001b[0mexecute\u001b[0m\u001b[1;33m(\u001b[0m\u001b[1;33m)\u001b[0m\u001b[1;33m\u001b[0m\u001b[1;33m\u001b[0m\u001b[0m\n\u001b[0m",
      "\u001b[1;32m<ipython-input-5-300b7653f679>\u001b[0m in \u001b[0;36mexecute\u001b[1;34m(self)\u001b[0m\n\u001b[0;32m     49\u001b[0m \u001b[1;33m\u001b[0m\u001b[0m\n\u001b[0;32m     50\u001b[0m     \u001b[1;32mdef\u001b[0m \u001b[0mexecute\u001b[0m\u001b[1;33m(\u001b[0m\u001b[0mself\u001b[0m\u001b[1;33m)\u001b[0m\u001b[1;33m:\u001b[0m\u001b[1;33m\u001b[0m\u001b[1;33m\u001b[0m\u001b[0m\n\u001b[1;32m---> 51\u001b[1;33m         \u001b[1;32mfor\u001b[0m \u001b[0mnum\u001b[0m\u001b[1;33m,\u001b[0m \u001b[0mchunkDF\u001b[0m \u001b[1;32min\u001b[0m \u001b[0menumerate\u001b[0m\u001b[1;33m(\u001b[0m\u001b[0mself\u001b[0m\u001b[1;33m.\u001b[0m\u001b[0mepLoad\u001b[0m\u001b[1;33m(\u001b[0m\u001b[1;33m)\u001b[0m\u001b[1;33m)\u001b[0m\u001b[1;33m:\u001b[0m\u001b[1;33m\u001b[0m\u001b[1;33m\u001b[0m\u001b[0m\n\u001b[0m\u001b[0;32m     52\u001b[0m             \u001b[0mprint\u001b[0m\u001b[1;33m(\u001b[0m\u001b[0mchunkDF\u001b[0m\u001b[1;33m)\u001b[0m\u001b[1;33m\u001b[0m\u001b[1;33m\u001b[0m\u001b[0m\n\u001b[0;32m     53\u001b[0m             \u001b[1;31m# convert\u001b[0m\u001b[1;33m\u001b[0m\u001b[1;33m\u001b[0m\u001b[1;33m\u001b[0m\u001b[0m\n",
      "\u001b[1;32m<ipython-input-5-300b7653f679>\u001b[0m in \u001b[0;36mepLoad\u001b[1;34m(self)\u001b[0m\n\u001b[0;32m     16\u001b[0m         \u001b[1;32melse\u001b[0m\u001b[1;33m:\u001b[0m\u001b[1;33m\u001b[0m\u001b[1;33m\u001b[0m\u001b[0m\n\u001b[0;32m     17\u001b[0m             \u001b[1;31m# chunksize 단위로 쪼개서 로드\u001b[0m\u001b[1;33m\u001b[0m\u001b[1;33m\u001b[0m\u001b[1;33m\u001b[0m\u001b[0m\n\u001b[1;32m---> 18\u001b[1;33m             result = pd.read_csv(self.config['load']['path'], \n\u001b[0m\u001b[0;32m     19\u001b[0m                                  \u001b[0mchunksize\u001b[0m\u001b[1;33m=\u001b[0m\u001b[0mself\u001b[0m\u001b[1;33m.\u001b[0m\u001b[0mconfig\u001b[0m\u001b[1;33m[\u001b[0m\u001b[1;34m'load'\u001b[0m\u001b[1;33m]\u001b[0m\u001b[1;33m[\u001b[0m\u001b[1;34m'chunkSize'\u001b[0m\u001b[1;33m]\u001b[0m\u001b[1;33m,\u001b[0m\u001b[1;33m\u001b[0m\u001b[1;33m\u001b[0m\u001b[0m\n\u001b[0;32m     20\u001b[0m                                  \u001b[0mdelimiter\u001b[0m\u001b[1;33m=\u001b[0m\u001b[1;34m','\u001b[0m\u001b[1;33m,\u001b[0m\u001b[1;33m\u001b[0m\u001b[1;33m\u001b[0m\u001b[0m\n",
      "\u001b[1;32mC:\\anaconda\\lib\\site-packages\\pandas\\io\\parsers.py\u001b[0m in \u001b[0;36mread_csv\u001b[1;34m(filepath_or_buffer, sep, delimiter, header, names, index_col, usecols, squeeze, prefix, mangle_dupe_cols, dtype, engine, converters, true_values, false_values, skipinitialspace, skiprows, skipfooter, nrows, na_values, keep_default_na, na_filter, verbose, skip_blank_lines, parse_dates, infer_datetime_format, keep_date_col, date_parser, dayfirst, cache_dates, iterator, chunksize, compression, thousands, decimal, lineterminator, quotechar, quoting, doublequote, escapechar, comment, encoding, dialect, error_bad_lines, warn_bad_lines, delim_whitespace, low_memory, memory_map, float_precision)\u001b[0m\n\u001b[0;32m    684\u001b[0m     )\n\u001b[0;32m    685\u001b[0m \u001b[1;33m\u001b[0m\u001b[0m\n\u001b[1;32m--> 686\u001b[1;33m     \u001b[1;32mreturn\u001b[0m \u001b[0m_read\u001b[0m\u001b[1;33m(\u001b[0m\u001b[0mfilepath_or_buffer\u001b[0m\u001b[1;33m,\u001b[0m \u001b[0mkwds\u001b[0m\u001b[1;33m)\u001b[0m\u001b[1;33m\u001b[0m\u001b[1;33m\u001b[0m\u001b[0m\n\u001b[0m\u001b[0;32m    687\u001b[0m \u001b[1;33m\u001b[0m\u001b[0m\n\u001b[0;32m    688\u001b[0m \u001b[1;33m\u001b[0m\u001b[0m\n",
      "\u001b[1;32mC:\\anaconda\\lib\\site-packages\\pandas\\io\\parsers.py\u001b[0m in \u001b[0;36m_read\u001b[1;34m(filepath_or_buffer, kwds)\u001b[0m\n\u001b[0;32m    450\u001b[0m \u001b[1;33m\u001b[0m\u001b[0m\n\u001b[0;32m    451\u001b[0m     \u001b[1;31m# Create the parser.\u001b[0m\u001b[1;33m\u001b[0m\u001b[1;33m\u001b[0m\u001b[1;33m\u001b[0m\u001b[0m\n\u001b[1;32m--> 452\u001b[1;33m     \u001b[0mparser\u001b[0m \u001b[1;33m=\u001b[0m \u001b[0mTextFileReader\u001b[0m\u001b[1;33m(\u001b[0m\u001b[0mfp_or_buf\u001b[0m\u001b[1;33m,\u001b[0m \u001b[1;33m**\u001b[0m\u001b[0mkwds\u001b[0m\u001b[1;33m)\u001b[0m\u001b[1;33m\u001b[0m\u001b[1;33m\u001b[0m\u001b[0m\n\u001b[0m\u001b[0;32m    453\u001b[0m \u001b[1;33m\u001b[0m\u001b[0m\n\u001b[0;32m    454\u001b[0m     \u001b[1;32mif\u001b[0m \u001b[0mchunksize\u001b[0m \u001b[1;32mor\u001b[0m \u001b[0miterator\u001b[0m\u001b[1;33m:\u001b[0m\u001b[1;33m\u001b[0m\u001b[1;33m\u001b[0m\u001b[0m\n",
      "\u001b[1;32mC:\\anaconda\\lib\\site-packages\\pandas\\io\\parsers.py\u001b[0m in \u001b[0;36m__init__\u001b[1;34m(self, f, engine, **kwds)\u001b[0m\n\u001b[0;32m    944\u001b[0m             \u001b[0mself\u001b[0m\u001b[1;33m.\u001b[0m\u001b[0moptions\u001b[0m\u001b[1;33m[\u001b[0m\u001b[1;34m\"has_index_names\"\u001b[0m\u001b[1;33m]\u001b[0m \u001b[1;33m=\u001b[0m \u001b[0mkwds\u001b[0m\u001b[1;33m[\u001b[0m\u001b[1;34m\"has_index_names\"\u001b[0m\u001b[1;33m]\u001b[0m\u001b[1;33m\u001b[0m\u001b[1;33m\u001b[0m\u001b[0m\n\u001b[0;32m    945\u001b[0m \u001b[1;33m\u001b[0m\u001b[0m\n\u001b[1;32m--> 946\u001b[1;33m         \u001b[0mself\u001b[0m\u001b[1;33m.\u001b[0m\u001b[0m_make_engine\u001b[0m\u001b[1;33m(\u001b[0m\u001b[0mself\u001b[0m\u001b[1;33m.\u001b[0m\u001b[0mengine\u001b[0m\u001b[1;33m)\u001b[0m\u001b[1;33m\u001b[0m\u001b[1;33m\u001b[0m\u001b[0m\n\u001b[0m\u001b[0;32m    947\u001b[0m \u001b[1;33m\u001b[0m\u001b[0m\n\u001b[0;32m    948\u001b[0m     \u001b[1;32mdef\u001b[0m \u001b[0mclose\u001b[0m\u001b[1;33m(\u001b[0m\u001b[0mself\u001b[0m\u001b[1;33m)\u001b[0m\u001b[1;33m:\u001b[0m\u001b[1;33m\u001b[0m\u001b[1;33m\u001b[0m\u001b[0m\n",
      "\u001b[1;32mC:\\anaconda\\lib\\site-packages\\pandas\\io\\parsers.py\u001b[0m in \u001b[0;36m_make_engine\u001b[1;34m(self, engine)\u001b[0m\n\u001b[0;32m   1176\u001b[0m     \u001b[1;32mdef\u001b[0m \u001b[0m_make_engine\u001b[0m\u001b[1;33m(\u001b[0m\u001b[0mself\u001b[0m\u001b[1;33m,\u001b[0m \u001b[0mengine\u001b[0m\u001b[1;33m=\u001b[0m\u001b[1;34m\"c\"\u001b[0m\u001b[1;33m)\u001b[0m\u001b[1;33m:\u001b[0m\u001b[1;33m\u001b[0m\u001b[1;33m\u001b[0m\u001b[0m\n\u001b[0;32m   1177\u001b[0m         \u001b[1;32mif\u001b[0m \u001b[0mengine\u001b[0m \u001b[1;33m==\u001b[0m \u001b[1;34m\"c\"\u001b[0m\u001b[1;33m:\u001b[0m\u001b[1;33m\u001b[0m\u001b[1;33m\u001b[0m\u001b[0m\n\u001b[1;32m-> 1178\u001b[1;33m             \u001b[0mself\u001b[0m\u001b[1;33m.\u001b[0m\u001b[0m_engine\u001b[0m \u001b[1;33m=\u001b[0m \u001b[0mCParserWrapper\u001b[0m\u001b[1;33m(\u001b[0m\u001b[0mself\u001b[0m\u001b[1;33m.\u001b[0m\u001b[0mf\u001b[0m\u001b[1;33m,\u001b[0m \u001b[1;33m**\u001b[0m\u001b[0mself\u001b[0m\u001b[1;33m.\u001b[0m\u001b[0moptions\u001b[0m\u001b[1;33m)\u001b[0m\u001b[1;33m\u001b[0m\u001b[1;33m\u001b[0m\u001b[0m\n\u001b[0m\u001b[0;32m   1179\u001b[0m         \u001b[1;32melse\u001b[0m\u001b[1;33m:\u001b[0m\u001b[1;33m\u001b[0m\u001b[1;33m\u001b[0m\u001b[0m\n\u001b[0;32m   1180\u001b[0m             \u001b[1;32mif\u001b[0m \u001b[0mengine\u001b[0m \u001b[1;33m==\u001b[0m \u001b[1;34m\"python\"\u001b[0m\u001b[1;33m:\u001b[0m\u001b[1;33m\u001b[0m\u001b[1;33m\u001b[0m\u001b[0m\n",
      "\u001b[1;32mC:\\anaconda\\lib\\site-packages\\pandas\\io\\parsers.py\u001b[0m in \u001b[0;36m__init__\u001b[1;34m(self, src, **kwds)\u001b[0m\n\u001b[0;32m   1989\u001b[0m         \u001b[1;32mif\u001b[0m \u001b[0mkwds\u001b[0m\u001b[1;33m.\u001b[0m\u001b[0mget\u001b[0m\u001b[1;33m(\u001b[0m\u001b[1;34m\"compression\"\u001b[0m\u001b[1;33m)\u001b[0m \u001b[1;32mis\u001b[0m \u001b[1;32mNone\u001b[0m \u001b[1;32mand\u001b[0m \u001b[0mencoding\u001b[0m\u001b[1;33m:\u001b[0m\u001b[1;33m\u001b[0m\u001b[1;33m\u001b[0m\u001b[0m\n\u001b[0;32m   1990\u001b[0m             \u001b[1;32mif\u001b[0m \u001b[0misinstance\u001b[0m\u001b[1;33m(\u001b[0m\u001b[0msrc\u001b[0m\u001b[1;33m,\u001b[0m \u001b[0mstr\u001b[0m\u001b[1;33m)\u001b[0m\u001b[1;33m:\u001b[0m\u001b[1;33m\u001b[0m\u001b[1;33m\u001b[0m\u001b[0m\n\u001b[1;32m-> 1991\u001b[1;33m                 \u001b[0msrc\u001b[0m \u001b[1;33m=\u001b[0m \u001b[0mopen\u001b[0m\u001b[1;33m(\u001b[0m\u001b[0msrc\u001b[0m\u001b[1;33m,\u001b[0m \u001b[1;34m\"rb\"\u001b[0m\u001b[1;33m)\u001b[0m\u001b[1;33m\u001b[0m\u001b[1;33m\u001b[0m\u001b[0m\n\u001b[0m\u001b[0;32m   1992\u001b[0m                 \u001b[0mself\u001b[0m\u001b[1;33m.\u001b[0m\u001b[0mhandles\u001b[0m\u001b[1;33m.\u001b[0m\u001b[0mappend\u001b[0m\u001b[1;33m(\u001b[0m\u001b[0msrc\u001b[0m\u001b[1;33m)\u001b[0m\u001b[1;33m\u001b[0m\u001b[1;33m\u001b[0m\u001b[0m\n\u001b[0;32m   1993\u001b[0m \u001b[1;33m\u001b[0m\u001b[0m\n",
      "\u001b[1;31mFileNotFoundError\u001b[0m: [Errno 2] No such file or directory: 'C:/Users/shsun/Documents/workspace/project/p1/f1_feed_change_min/data/dumy_10g.csv'"
     ]
    }
   ],
   "source": [
    "fcp.execute()"
   ]
  },
  {
   "cell_type": "code",
   "execution_count": null,
   "metadata": {},
   "outputs": [],
   "source": []
  },
  {
   "cell_type": "code",
   "execution_count": null,
   "metadata": {},
   "outputs": [],
   "source": []
  },
  {
   "cell_type": "code",
   "execution_count": 36,
   "metadata": {},
   "outputs": [
    {
     "output_type": "error",
     "ename": "NameError",
     "evalue": "name 'config' is not defined",
     "traceback": [
      "\u001b[1;31m---------------------------------------------------------------------------\u001b[0m",
      "\u001b[1;31mNameError\u001b[0m                                 Traceback (most recent call last)",
      "\u001b[1;32m<ipython-input-36-d955f932fd7a>\u001b[0m in \u001b[0;36m<module>\u001b[1;34m\u001b[0m\n\u001b[1;32m----> 1\u001b[1;33m for num, chunkDF in enumerate(pd.read_csv(config['load']['path'], \n\u001b[0m\u001b[0;32m      2\u001b[0m                               \u001b[0mchunksize\u001b[0m\u001b[1;33m=\u001b[0m\u001b[1;36m20\u001b[0m\u001b[1;33m,\u001b[0m\u001b[1;33m\u001b[0m\u001b[1;33m\u001b[0m\u001b[0m\n\u001b[0;32m      3\u001b[0m                               \u001b[0mdelimiter\u001b[0m\u001b[1;33m=\u001b[0m\u001b[1;34m','\u001b[0m\u001b[1;33m,\u001b[0m\u001b[1;33m\u001b[0m\u001b[1;33m\u001b[0m\u001b[0m\n\u001b[0;32m      4\u001b[0m                               encoding=config['load']['encoding'])):\n\u001b[0;32m      5\u001b[0m \u001b[1;33m\u001b[0m\u001b[0m\n",
      "\u001b[1;31mNameError\u001b[0m: name 'config' is not defined"
     ]
    }
   ],
   "source": [
    "for num, chunkDF in enumerate(pd.read_csv(config['load']['path'], \n",
    "                              chunksize=10, \n",
    "                              delimiter=',', \n",
    "                              encoding=config['load']['encoding'])):\n",
    "    \n",
    "    keys = list(config['filter']['fields'].keys())    \n",
    "    chunkDF = chunkDF[keys] # 사용필드만\n",
    "    chunkDF.rename(columns = config['filter']['fields'], inplace=True) # 이름변경\n",
    "    \n",
    "    #print(chunkDF)\n",
    "    \n",
    "    chunkDF = chunkDF.loc[chunkDF['convert_id'].isin(['1000034458560','1000034461158'])] # 포함\n",
    "    chunkDF = chunkDF.loc[~chunkDF['convert_id'].isin(['1000034458560'])] # 미포함\n",
    "    \n",
    "    # 등등 로직\n",
    "    \n",
    "    \n",
    "    print(chunkDF)\n",
    "    # convert\n",
    "    #chunkDF = self.ep2Feed(chunkDF)\n",
    "    \n",
    "    break"
   ]
  },
  {
   "cell_type": "code",
   "execution_count": null,
   "metadata": {},
   "outputs": [],
   "source": []
  }
 ],
 "metadata": {
  "kernelspec": {
   "display_name": "Python 3",
   "language": "python",
   "name": "python3"
  },
  "language_info": {
   "codemirror_mode": {
    "name": "ipython",
    "version": 3
   },
   "file_extension": ".py",
   "mimetype": "text/x-python",
   "name": "python",
   "nbconvert_exporter": "python",
   "pygments_lexer": "ipython3",
   "version": "3.8.5-final"
  }
 },
 "nbformat": 4,
 "nbformat_minor": 4
}