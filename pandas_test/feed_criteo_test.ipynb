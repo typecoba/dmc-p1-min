{
 "cells": [
  {
   "cell_type": "code",
   "execution_count": 1,
   "metadata": {},
   "outputs": [
    {
     "data": {
      "text/plain": [
       "'\\ntsv to xml\\n\\n1.load\\n    추후 메모리문제 위해선 한줄씩 처리 필요\\n2.filter\\n    개별함수 만들어 조합하는식으로\\n3.export xml\\n    변수값에따라 xml생성, 저장\\n'"
      ]
     },
     "execution_count": 1,
     "metadata": {},
     "output_type": "execute_result"
    }
   ],
   "source": [
    "'''\n",
    "tsv to xml\n",
    "\n",
    "1.load\n",
    "    추후 메모리문제 위해선 한줄씩 처리 필요\n",
    "2.filter\n",
    "    개별함수 만들어 조합하는식으로\n",
    "3.export xml\n",
    "    변수값에따라 xml생성, 저장\n",
    "'''"
   ]
  },
  {
   "cell_type": "code",
   "execution_count": null,
   "metadata": {},
   "outputs": [],
   "source": []
  },
  {
   "cell_type": "markdown",
   "metadata": {},
   "source": [
    "## Import"
   ]
  },
  {
   "cell_type": "code",
   "execution_count": 2,
   "metadata": {},
   "outputs": [],
   "source": [
    "import pandas as pd\n",
    "import os\n",
    "import re\n",
    "import csv\n",
    "from urllib import parse"
   ]
  },
  {
   "cell_type": "markdown",
   "metadata": {},
   "source": [
    "### Load data"
   ]
  },
  {
   "cell_type": "code",
   "execution_count": 3,
   "metadata": {},
   "outputs": [],
   "source": [
    "# dataframe\n",
    "df = pd.read_csv(\"./data/fb.tsv\", sep=\"\\t\")"
   ]
  },
  {
   "cell_type": "code",
   "execution_count": 4,
   "metadata": {
    "scrolled": false
   },
   "outputs": [
    {
     "data": {
      "text/plain": [
       "0    http://m.maychic.co.kr/product/detail.html?pro...\n",
       "1    http://m.maychic.co.kr/product/detail.html?pro...\n",
       "2    http://m.maychic.co.kr/product/detail.html?pro...\n",
       "3    http://m.maychic.co.kr/product/detail.html?pro...\n",
       "4    http://m.maychic.co.kr/product/detail.html?pro...\n",
       "Name: custom_label_0, dtype: object"
      ]
     },
     "execution_count": 4,
     "metadata": {},
     "output_type": "execute_result"
    }
   ],
   "source": [
    "len(df)\n",
    "df['custom_label_0'][:5]"
   ]
  },
  {
   "cell_type": "code",
   "execution_count": 5,
   "metadata": {},
   "outputs": [],
   "source": [
    "# 수정시 메모리문제 위해선 한줄씩 처리해야함\n",
    "# with open\n",
    "with open('./data/fb.tsv', 'r', encoding='utf-8', newline='') as f:\n",
    "    line = f.readlines()\n",
    "#     print(line)    \n",
    "    f.close()"
   ]
  },
  {
   "cell_type": "code",
   "execution_count": null,
   "metadata": {},
   "outputs": [],
   "source": []
  },
  {
   "cell_type": "markdown",
   "metadata": {},
   "source": [
    "### Filter Class"
   ]
  },
  {
   "cell_type": "code",
   "execution_count": 6,
   "metadata": {},
   "outputs": [],
   "source": [
    "class FeedFilter():\n",
    "    def __init__(self,text):\n",
    "        self._text = text\n",
    "        \n",
    "    def setText(self, text):\n",
    "        self._text = str(text)\n",
    "        return self\n",
    "    \n",
    "    def getText(self):\n",
    "        return self._text\n",
    "        \n",
    "    # 길이제한\n",
    "    def limitTextLength(self, length):                \n",
    "        self.setText( self.getText()[:length])\n",
    "        return self\n",
    "    \n",
    "    # 단어제거\n",
    "    def deleteText(self, stopWord) :        \n",
    "        self.setText(self.getText().replace(stopWord,''))\n",
    "        return self\n",
    "    \n",
    "    # html태그 제거\n",
    "    def deleteHTMLTags(self) :\n",
    "        self.setText( re.sub(r'<.*?>','',self.getText()) )\n",
    "        return self\n",
    "    \n",
    "    # link http://시작, 기호 인코딩\n",
    "    def fitURL(self):\n",
    "        query = ''\n",
    "        result = ''\n",
    "        urlparse = parse.urlparse(self._text)\n",
    "#         print(urlparse)\n",
    "\n",
    "        # scheme \n",
    "        if urlparse.scheme=='':\n",
    "            urlparse = urlparse._replace(scheme = 'http')\n",
    "\n",
    "        if urlparse.query!='':\n",
    "            query = parse.parse_qs(urlparse.query)\n",
    "#             print(query)\n",
    "\n",
    "            # 쿼리 인코딩\n",
    "            query = '?'+parse.urlencode(query, doseq=True)\n",
    "#             print(query)\n",
    "\n",
    "        self.setText( urlparse.scheme+'://'+urlparse.netloc+urlparse.path + query )\n",
    "\n",
    "        return self\n",
    "    \n",
    "    # ,제거 .소숫점 허용\n",
    "    def fitNumber(self):        \n",
    "        self.setText( self.getText().replace(',',''))\n",
    "        return self\n",
    "    \n",
    "    # 문자열 제한\n",
    "    def checkTextInList(self, limitList):\n",
    "        if self.getText().lower() in limitList:\n",
    "            return True\n",
    "        else :\n",
    "            return False        \n",
    "    \n",
    "    # 자리수 제한 숫자(문자열)\n",
    "    def checkNumberLengthInList(self, lengthList):        \n",
    "        if len(str(self.getText())) in lengthList: \n",
    "            return  True        \n",
    "        else :             \n",
    "            return False\n",
    "        \n",
    "    def limitTextAscii(self):\n",
    "        result = ''\n",
    "        for char in self.getText():\n",
    "            if ord(char) < 127 :\n",
    "                result = result + char\n",
    "        self.setText( result )\n",
    "        return self\n",
    "        \n"
   ]
  },
  {
   "cell_type": "code",
   "execution_count": 7,
   "metadata": {},
   "outputs": [],
   "source": [
    "# ascii만 포함\n",
    "ff = FeedFilter('')"
   ]
  },
  {
   "cell_type": "code",
   "execution_count": null,
   "metadata": {},
   "outputs": [],
   "source": []
  },
  {
   "cell_type": "code",
   "execution_count": 8,
   "metadata": {},
   "outputs": [
    {
     "name": "stdout",
     "output_type": "stream",
     "text": [
      "<title>232\n"
     ]
    }
   ],
   "source": [
    "print( ff.setText('<title>232\"323\"232')\n",
    "      .deleteText('\"')\n",
    "      .limitTextLength(10)      \n",
    "      .getText() )"
   ]
  },
  {
   "cell_type": "code",
   "execution_count": 56,
   "metadata": {},
   "outputs": [
    {
     "name": "stdout",
     "output_type": "stream",
     "text": [
      "abc\n"
     ]
    }
   ],
   "source": [
    "print(ff.setText('a\"b\"c')\n",
    "        .deleteText('\"')\n",
    "        .getText())"
   ]
  },
  {
   "cell_type": "code",
   "execution_count": 57,
   "metadata": {},
   "outputs": [],
   "source": [
    "# 문자나 숫자로만 시작\n"
   ]
  },
  {
   "cell_type": "code",
   "execution_count": null,
   "metadata": {},
   "outputs": [],
   "source": []
  },
  {
   "cell_type": "code",
   "execution_count": 58,
   "metadata": {},
   "outputs": [
    {
     "name": "stdout",
     "output_type": "stream",
     "text": [
      "12345678910\n"
     ]
    }
   ],
   "source": [
    "print( ff.setText('1234<title>5678</title>910')\n",
    "        .deleteHTMLTags()\n",
    "        .getText())"
   ]
  },
  {
   "cell_type": "code",
   "execution_count": null,
   "metadata": {},
   "outputs": [],
   "source": []
  },
  {
   "cell_type": "code",
   "execution_count": 13,
   "metadata": {},
   "outputs": [
    {
     "name": "stdout",
     "output_type": "stream",
     "text": [
      "ParseResult(scheme='http', netloc='maychic.co.kr', path='/web/product/medium/202008/9bc7171c8a4681b000dcaea0b985c57a_dburl.jpg', params='', query='', fragment='')\n",
      "http://maychic.co.kr/web/product/medium/202008/9bc7171c8a4681b000dcaea0b985c57a_dburl.jpg\n"
     ]
    }
   ],
   "source": [
    "# print( fitURL('www.exeam.org?examParam1=value1&examParam2=한글$$') )\n",
    "print( ff.setText('http://maychic.co.kr/web/product/medium/202008/9bc7171c8a4681b000dcaea0b985c57a_dburl.jpg')\n",
    "        .fitURL()\n",
    "        .getText())"
   ]
  },
  {
   "cell_type": "code",
   "execution_count": 14,
   "metadata": {},
   "outputs": [
    {
     "name": "stdout",
     "output_type": "stream",
     "text": [
      "2000000.34565\n"
     ]
    }
   ],
   "source": [
    "print( ff.setText('2,000,000.34565')\n",
    "        .fitNumber()\n",
    "        .getText())"
   ]
  },
  {
   "cell_type": "code",
   "execution_count": 16,
   "metadata": {},
   "outputs": [
    {
     "name": "stdout",
     "output_type": "stream",
     "text": [
      "False\n"
     ]
    }
   ],
   "source": [
    "print( ff.setText('bbba')\n",
    "        .checkTextInList(['aaa','bbb','ccc']))"
   ]
  },
  {
   "cell_type": "code",
   "execution_count": 100,
   "metadata": {},
   "outputs": [
    {
     "name": "stdout",
     "output_type": "stream",
     "text": [
      "False\n"
     ]
    }
   ],
   "source": [
    "print( ff.setText('000222121')\n",
    "          .checkNumberLengthInList([8,12,13,14]) )"
   ]
  },
  {
   "cell_type": "code",
   "execution_count": 158,
   "metadata": {},
   "outputs": [
    {
     "name": "stdout",
     "output_type": "stream",
     "text": [
      "sdfs sdf12 331!@#!%^*<>< ><>>>  \n"
     ]
    }
   ],
   "source": [
    "temp = 'sdfs sdf12 331!@#!%^*<>< ><>>>★ 최저가 보장'\n",
    "print(ff.setText(temp).limitTextAscii().getText())\n",
    "\n"
   ]
  },
  {
   "cell_type": "code",
   "execution_count": 193,
   "metadata": {},
   "outputs": [
    {
     "data": {
      "text/plain": [
       "['id',\n",
       " 'availability',\n",
       " 'condition',\n",
       " 'description',\n",
       " 'image_link',\n",
       " 'link',\n",
       " 'custom_label_0',\n",
       " 'title',\n",
       " 'price',\n",
       " 'sale_price',\n",
       " 'gtin',\n",
       " 'mpn',\n",
       " 'brand',\n",
       " 'product_type']"
      ]
     },
     "execution_count": 193,
     "metadata": {},
     "output_type": "execute_result"
    }
   ],
   "source": [
    "##\n",
    "list(df.columns)"
   ]
  },
  {
   "cell_type": "code",
   "execution_count": 9,
   "metadata": {},
   "outputs": [],
   "source": [
    "#test dataframe\n",
    "tempdf = pd.DataFrame()"
   ]
  },
  {
   "cell_type": "code",
   "execution_count": 10,
   "metadata": {},
   "outputs": [
    {
     "name": "stdout",
     "output_type": "stream",
     "text": [
      "0    13\n",
      "1    27\n",
      "2    32\n",
      "Name: id, dtype: object\n"
     ]
    }
   ],
   "source": [
    "'''\n",
    "문자 요구 사항: id는 ASCII 문자만 포함해야 하며 따옴표를 포함할 수 없습니다.\n",
    "\n",
    "제한: 240\n",
    "\n",
    "유형: String\n",
    "\n",
    "예: abc123-black-7.5\n",
    "'''\n",
    "tempdf['id'] = df['id'].apply(\n",
    "    lambda x : ff.setText(x)\n",
    "                .limitTextAscii()\n",
    "                .limitTextLength(240)\n",
    "                .getText()\n",
    ")\n",
    "print(tempdf['id'][:3])"
   ]
  },
  {
   "cell_type": "code",
   "execution_count": 11,
   "metadata": {},
   "outputs": [
    {
     "name": "stdout",
     "output_type": "stream",
     "text": [
      "0    in stock\n",
      "1    in stock\n",
      "2    in stock\n",
      "Name: availability, dtype: object\n"
     ]
    }
   ],
   "source": [
    "'''\n",
    "문자 요구 사항: availability는 다음 세가지 값 중 하나로 채워 져야합니다.\n",
    "\n",
    "preorder\n",
    "out of stock\n",
    "in stock\n",
    "제한: 25\n",
    "\n",
    "유형: String\n",
    "\n",
    "예: in stock\n",
    "'''\n",
    "\n",
    "def getAvailability(x):\n",
    "    ff = FeedFilter('')\n",
    "    if ff.setText(x).limitTextLength(25).checkTextInList(['preorder','out of stock','in stock']):\n",
    "        return ff.getText()\n",
    "    else :\n",
    "        return False\n",
    "\n",
    "tempdf['availability'] = df['availability'].apply(\n",
    "    lambda x : getAvailability(x)\n",
    ")\n",
    "print(tempdf['availability'][:3])"
   ]
  },
  {
   "cell_type": "code",
   "execution_count": 12,
   "metadata": {},
   "outputs": [
    {
     "name": "stdout",
     "output_type": "stream",
     "text": [
      "0    NEW\n",
      "1    NEW\n",
      "2    NEW\n",
      "Name: condition, dtype: object\n"
     ]
    }
   ],
   "source": [
    "'''\n",
    "문자 요구 사항: 세 가지 값만 허용됩니다:\n",
    "\n",
    "'new' [신제품]\n",
    "'refurbished' [리퍼브제품]\n",
    "'used' [중고품]\n",
    "유형: String\n",
    "\n",
    "예: new\n",
    "\n",
    "'''\n",
    "def getCondition(x):\n",
    "    ff = FeedFilter('')\n",
    "    if ff.setText(x).checkTextInList(['new','resurbished','used']) :        \n",
    "        return ff.getText()\n",
    "    else : \n",
    "        return False\n",
    "    \n",
    "tempdf['condition'] = df['condition'].apply(\n",
    "    lambda x : getCondition(x)\n",
    ")\n",
    "print(tempdf['condition'][:3])"
   ]
  },
  {
   "cell_type": "code",
   "execution_count": 13,
   "metadata": {},
   "outputs": [
    {
     "name": "stdout",
     "output_type": "stream",
     "text": [
      "0      적립금 있음 | 배송비 2500 | 리뷰 : 58\n",
      "1      적립금 있음 | 배송비 2500 | 리뷰 : 77\n",
      "2    적립금 있음 | 배송비 2500 | 리뷰 : 1153\n",
      "Name: description, dtype: object\n"
     ]
    }
   ],
   "source": [
    "'''\n",
    "문자 요구사항: description은 문자나 숫자로 시작해야 합니다. \n",
    "style, embed, object, anchor 태그를 포함하여 이 필드의 모든 HTML은 제거되어야 합니다.\n",
    "\n",
    "제한: 2500 (영문 5000) \n",
    "\n",
    "유형: String\n",
    "\n",
    "예: 일상적 사용에 우수함.\n",
    "'''\n",
    "tempdf['description'] = df['description'].apply(\n",
    "    lambda x : ff.setText(x)\n",
    "                .deleteHTMLTags()\n",
    "                .limitTextLength(2500)\n",
    "                .getText()\n",
    ")\n",
    "print(tempdf['description'][:3])"
   ]
  },
  {
   "cell_type": "code",
   "execution_count": 14,
   "metadata": {},
   "outputs": [
    {
     "name": "stdout",
     "output_type": "stream",
     "text": [
      "['http://maychic.co.kr/web/product/medium/202008/9bc7171c8a4681b000dcaea0b985c57a_dburl.jpg'\n",
      " 'http://maychic.co.kr/web/product/medium/202008/278ac9d9aa775b974fb4c79c7738dd09_dburl.jpg'\n",
      " 'http://maychic.co.kr/web/product/medium/201908/72c85a9fefac81d6906b73824909f62f_dburl.jpg']\n"
     ]
    }
   ],
   "source": [
    "'''\n",
    "문자 요구 사항: image_link는 제품 이미지의 전체 URL 앞에 http://나 https://로 시작해야 합니다. \n",
    "모든 기호는 인코딩해야 합니다. 예. $은 %24로 교체해야 합니다.  \n",
    "\n",
    "제한: 2000\n",
    "\n",
    "유형: String\n",
    "\n",
    "예: http://www.example.com/product/image/working-boots.png\n",
    "'''\n",
    "tempdf['image_link'] = df['image_link'].apply(\n",
    "    lambda x : ff.setText(x)\n",
    "                .fitURL()\n",
    "                .limitTextLength(2000)\n",
    "                .getText()\n",
    ")\n",
    "print( tempdf['image_link'][:3].values )"
   ]
  },
  {
   "cell_type": "code",
   "execution_count": 15,
   "metadata": {},
   "outputs": [
    {
     "name": "stdout",
     "output_type": "stream",
     "text": [
      "['http://maychic.co.kr/product/detail.html?product_no=13'\n",
      " 'http://maychic.co.kr/product/detail.html?product_no=27'\n",
      " 'http://maychic.co.kr/product/detail.html?product_no=32']\n"
     ]
    }
   ],
   "source": [
    "'''\n",
    "문자 요구 사항: link는 제품 상세 페이지의 전체 URL 앞에 프로토콜로 (http:// 또는 https://) 시작해야 합니다. 모든 기호는 인코딩해야 합니다. 예. $은 %24로 교체해야 합니다.\n",
    "\n",
    "제한: 1024\n",
    "\n",
    "유형: String\n",
    "\n",
    "예: http://www.example.com/product/working-boots\n",
    "'''\n",
    "tempdf['link'] = df['link'].apply(\n",
    "    lambda x : ff.setText(x)\n",
    "                .fitURL()\n",
    "                .limitTextLength(1024)\n",
    "                .getText()\n",
    ")\n",
    "print(tempdf['link'][:3].values)"
   ]
  },
  {
   "cell_type": "code",
   "execution_count": 16,
   "metadata": {},
   "outputs": [
    {
     "name": "stdout",
     "output_type": "stream",
     "text": [
      "['http://m.maychic.co.kr/product/detail.html?product_no=13'\n",
      " 'http://m.maychic.co.kr/product/detail.html?product_no=27'\n",
      " 'http://m.maychic.co.kr/product/detail.html?product_no=32']\n"
     ]
    }
   ],
   "source": [
    "'''\n",
    "문자 요구 사항: 사용자 지정 레이블 중 5개 레벨만 허용함 (0에서 4까지)\n",
    "\n",
    "제한: 100(영문 100)\n",
    "\n",
    "유형: String\n",
    "'''\n",
    "tempdf['custom_label_0'] = df['custom_label_0'].apply(\n",
    "    lambda x : ff.setText(x).getText()\n",
    ")\n",
    "print(tempdf['custom_label_0'][:3].values)"
   ]
  },
  {
   "cell_type": "code",
   "execution_count": 17,
   "metadata": {},
   "outputs": [
    {
     "name": "stdout",
     "output_type": "stream",
     "text": [
      "0                  [메이시크] 아이브로우 가이드 4종 1set #롱래스팅\n",
      "1                   [메이시크] 쿨톤 벨벳틴트 선착순특가 품절임박 #착붙\n",
      "2    [메이시크] 핑거팁 타투 아이브로우 틴트+가이드4종 증정 #눈썹타투펜 #롱래스팅\n",
      "Name: title, dtype: object\n"
     ]
    }
   ],
   "source": [
    "'''\n",
    "문자 요구사항: 이름은 문자나 숫자로 시작해야 합니다.\n",
    "\n",
    "제한: 75 (영문 150)\n",
    "\n",
    "유형: String\n",
    "\n",
    "예: 작업용 부츠 - 사이즈 7.5\n",
    "'''\n",
    "tempdf['title'] = df['title'].apply(\n",
    "    lambda x : ff.setText(x)\n",
    "                .limitTextLength(75)\n",
    "                .getText()                \n",
    ")\n",
    "print(tempdf['title'][:3])"
   ]
  },
  {
   "cell_type": "code",
   "execution_count": 18,
   "metadata": {},
   "outputs": [
    {
     "name": "stdout",
     "output_type": "stream",
     "text": [
      "0     3500\n",
      "1     7900\n",
      "2    14900\n",
      "Name: price, dtype: object\n"
     ]
    }
   ],
   "source": [
    "'''\n",
    "문자 요구 사항: 소수점 구분 기호로 마침표(.)를 사용하고 천 단위 쉼표(,)는 사용하지 않습니다.\n",
    "\n",
    "제한: 14\n",
    "\n",
    "유형: String\n",
    "\n",
    "예: 1299.99\n",
    "'''\n",
    "tempdf['price'] = df['price'].apply(\n",
    "    lambda x : ff.setText(x)\n",
    "                .fitNumber()\n",
    "                .limitTextLength(14)\n",
    "                .getText()\n",
    ")\n",
    "print(tempdf['price'][:3])"
   ]
  },
  {
   "cell_type": "code",
   "execution_count": 19,
   "metadata": {},
   "outputs": [
    {
     "name": "stdout",
     "output_type": "stream",
     "text": [
      "0     3500\n",
      "1     7900\n",
      "2    14900\n",
      "Name: sale_price, dtype: object\n"
     ]
    }
   ],
   "source": [
    "'''\n",
    "문자 요구 사항: 소수점 구분 기호로 마침표(.)를 사용하고 천 단위 쉼표(,)는 사용하지 않습니다.\n",
    "\n",
    "제한: 50\n",
    "유형: String\n",
    "\n",
    "예: 99.99\n",
    "'''\n",
    "tempdf['sale_price'] = df['sale_price'].apply(\n",
    "    lambda x : ff.setText(x)\n",
    "                .fitNumber()\n",
    "                .limitTextLength(50)\n",
    "                .getText()\n",
    ")\n",
    "print(tempdf['sale_price'][:3])"
   ]
  },
  {
   "cell_type": "code",
   "execution_count": 20,
   "metadata": {},
   "outputs": [
    {
     "name": "stdout",
     "output_type": "stream",
     "text": [
      "0   NaN\n",
      "1   NaN\n",
      "2   NaN\n",
      "Name: gtin, dtype: float64\n",
      "0    False\n",
      "1    False\n",
      "2    False\n",
      "Name: gtin, dtype: bool\n"
     ]
    }
   ],
   "source": [
    "'''\n",
    "문자 요구 사항: 값은 8, 12, 13 또는 14 자리 숫자 (UPC, EAN, JAN 또는 ISBN) 여야합니다.\n",
    "\n",
    "제한: 50\n",
    "\n",
    "유형: String\n",
    "\n",
    "예: 0001234560012\n",
    " \n",
    "'''\n",
    "def getGtin(x):\n",
    "    ff = FeedFilter('')\n",
    "    ff.setText(x)\n",
    "    if ff.checkNumberLengthInList([8,12,13,14]) :\n",
    "        return ff.getText()\n",
    "    else : \n",
    "        return False\n",
    "    \n",
    "tempdf['gtin'] = df['gtin'].apply(\n",
    "    lambda x : getGtin(x)\n",
    ")\n",
    "print(df['gtin'][:3])\n",
    "print(tempdf['gtin'][:3])"
   ]
  },
  {
   "cell_type": "code",
   "execution_count": 21,
   "metadata": {},
   "outputs": [
    {
     "name": "stdout",
     "output_type": "stream",
     "text": [
      "0    nan\n",
      "1    nan\n",
      "2    nan\n",
      "Name: mpn, dtype: object\n"
     ]
    }
   ],
   "source": [
    "'''\n",
    "제한: 70\n",
    "\n",
    "유형: String\n",
    "\n",
    "예: 4060882\n",
    " \n",
    "'''\n",
    "\n",
    "tempdf['mpn'] = df['mpn'].apply(\n",
    "    lambda x : ff.setText(x)\n",
    "                .limitTextLength(70)\n",
    "                .getText()\n",
    ")\n",
    "print(tempdf['mpn'][:3])"
   ]
  },
  {
   "cell_type": "code",
   "execution_count": 22,
   "metadata": {},
   "outputs": [
    {
     "name": "stdout",
     "output_type": "stream",
     "text": [
      "0    메이시크\n",
      "1    메이시크\n",
      "2    메이시크\n",
      "Name: brand, dtype: object\n"
     ]
    }
   ],
   "source": [
    "'''\n",
    "제한: 70\n",
    "\n",
    "유형: String\n",
    "\n",
    "예: Criteo\n",
    "'''\n",
    "tempdf['brand'] = df['brand'].apply(\n",
    "    lambda x : ff.setText(x).getText()\n",
    ")\n",
    "print(tempdf['brand'][:3])"
   ]
  },
  {
   "cell_type": "code",
   "execution_count": null,
   "metadata": {},
   "outputs": [],
   "source": []
  },
  {
   "cell_type": "code",
   "execution_count": 23,
   "metadata": {},
   "outputs": [
    {
     "name": "stdout",
     "output_type": "stream",
     "text": [
      "0                 ALL \n",
      "1                 ALL \n",
      "2                 ALL \n",
      "3                 ALL \n",
      "4                 ALL \n",
      "5                 ALL \n",
      "6                 ALL \n",
      "7                 ALL \n",
      "8                 ALL \n",
      "9                 ALL \n",
      "10                ALL \n",
      "11                ALL \n",
      "12                ALL \n",
      "13                ALL \n",
      "14                ALL \n",
      "15                ALL \n",
      "16                ALL \n",
      "17                ALL \n",
      "18                ALL \n",
      "19                ALL \n",
      "20                ALL \n",
      "21                ALL \n",
      "22                ALL \n",
      "23           ★ 최저가 보장 \n",
      "24                ALL \n",
      "25                ALL \n",
      "26                ALL \n",
      "27                ALL \n",
      "28                ALL \n",
      "29                ALL \n",
      "30                ALL \n",
      "31                ALL \n",
      "32                ALL \n",
      "33                ALL \n",
      "34                ALL \n",
      "35                ALL \n",
      "36                ALL \n",
      "37                ALL \n",
      "38                ALL \n",
      "39                ALL \n",
      "40                ALL \n",
      "41                ALL \n",
      "42                ALL \n",
      "43                ALL \n",
      "44                ALL \n",
      "45                ALL \n",
      "46                ALL \n",
      "47    ALL > HOT PRICE \n",
      "48    ALL > HOT PRICE \n",
      "49                ALL \n",
      "50                ALL \n",
      "51         ALL > FACE \n",
      "52                ALL \n",
      "53                ALL \n",
      "Name: product_type, dtype: object\n",
      "0                 ALL \n",
      "1                 ALL \n",
      "2                 ALL \n",
      "3                 ALL \n",
      "4                 ALL \n",
      "5                 ALL \n",
      "6                 ALL \n",
      "7                 ALL \n",
      "8                 ALL \n",
      "9                 ALL \n",
      "10                ALL \n",
      "11                ALL \n",
      "12                ALL \n",
      "13                ALL \n",
      "14                ALL \n",
      "15                ALL \n",
      "16                ALL \n",
      "17                ALL \n",
      "18                ALL \n",
      "19                ALL \n",
      "20                ALL \n",
      "21                ALL \n",
      "22                ALL \n",
      "23                    \n",
      "24                ALL \n",
      "25                ALL \n",
      "26                ALL \n",
      "27                ALL \n",
      "28                ALL \n",
      "29                ALL \n",
      "30                ALL \n",
      "31                ALL \n",
      "32                ALL \n",
      "33                ALL \n",
      "34                ALL \n",
      "35                ALL \n",
      "36                ALL \n",
      "37                ALL \n",
      "38                ALL \n",
      "39                ALL \n",
      "40                ALL \n",
      "41                ALL \n",
      "42                ALL \n",
      "43                ALL \n",
      "44                ALL \n",
      "45                ALL \n",
      "46                ALL \n",
      "47    ALL > HOT PRICE \n",
      "48    ALL > HOT PRICE \n",
      "49                ALL \n",
      "50                ALL \n",
      "51         ALL > FACE \n",
      "52                ALL \n",
      "53                ALL \n",
      "Name: product_type, dtype: object\n"
     ]
    }
   ],
   "source": [
    "'''\n",
    "주의할 점: product_type는 문자 또는 숫자로 시작해야 하며 ASCII 문자만 포함할 수 있습니다. \n",
    "카테고리들은 >로 구분되어야 합니다 (XML 카탈로그의 경우는 &gt;). 저희는 전체 카테고리 경로만 지원합니다. \n",
    "제품이 여러 카테고리로 제공되는 경우, 먼저 기본 카테고리를 시작으로 쉼표 (,)로 다른 카테고리들을 보내주시면 됩니다. \n",
    "카테고리 경로에 ID는 허용되지 않습니다. ID는 product_type_key 필드에 입력해야 합니다. \n",
    "\n",
    "제한: 500\n",
    "\n",
    "유형: String\n",
    "\n",
    "예:\n",
    "\n",
    "단일: Computing>Keyboards and Mice>Mice>Wireless Mice\n",
    "다중: Computing>Keyboards and Mice>Mice>Wireless Mice,Gifts>For Dad>Mice\n",
    "'''\n",
    "\n",
    "tempdf['product_type'] = df['product_type'].apply(\n",
    "    lambda x : ff.setText(x)\n",
    "                .limitTextAscii()\n",
    "                .limitTextLength(500)\n",
    "                .getText()\n",
    ")\n",
    "print(df['product_type'][:])\n",
    "print(tempdf['product_type'][:])"
   ]
  },
  {
   "cell_type": "code",
   "execution_count": null,
   "metadata": {},
   "outputs": [],
   "source": []
  },
  {
   "cell_type": "code",
   "execution_count": 24,
   "metadata": {},
   "outputs": [
    {
     "data": {
      "text/html": [
       "<div>\n",
       "<style scoped>\n",
       "    .dataframe tbody tr th:only-of-type {\n",
       "        vertical-align: middle;\n",
       "    }\n",
       "\n",
       "    .dataframe tbody tr th {\n",
       "        vertical-align: top;\n",
       "    }\n",
       "\n",
       "    .dataframe thead th {\n",
       "        text-align: right;\n",
       "    }\n",
       "</style>\n",
       "<table border=\"1\" class=\"dataframe\">\n",
       "  <thead>\n",
       "    <tr style=\"text-align: right;\">\n",
       "      <th></th>\n",
       "      <th>id</th>\n",
       "      <th>availability</th>\n",
       "      <th>condition</th>\n",
       "      <th>description</th>\n",
       "      <th>image_link</th>\n",
       "      <th>link</th>\n",
       "      <th>custom_label_0</th>\n",
       "      <th>title</th>\n",
       "      <th>price</th>\n",
       "      <th>sale_price</th>\n",
       "      <th>gtin</th>\n",
       "      <th>mpn</th>\n",
       "      <th>brand</th>\n",
       "      <th>product_type</th>\n",
       "    </tr>\n",
       "  </thead>\n",
       "  <tbody>\n",
       "    <tr>\n",
       "      <th>0</th>\n",
       "      <td>13</td>\n",
       "      <td>in stock</td>\n",
       "      <td>NEW</td>\n",
       "      <td>적립금 있음 | 배송비 2500 | 리뷰 : 58</td>\n",
       "      <td>http://maychic.co.kr/web/product/medium/202008...</td>\n",
       "      <td>http://maychic.co.kr/product/detail.html?produ...</td>\n",
       "      <td>http://m.maychic.co.kr/product/detail.html?pro...</td>\n",
       "      <td>[메이시크] 아이브로우 가이드 4종 1set #롱래스팅</td>\n",
       "      <td>3500</td>\n",
       "      <td>3500</td>\n",
       "      <td>False</td>\n",
       "      <td>nan</td>\n",
       "      <td>메이시크</td>\n",
       "      <td>ALL</td>\n",
       "    </tr>\n",
       "    <tr>\n",
       "      <th>1</th>\n",
       "      <td>27</td>\n",
       "      <td>in stock</td>\n",
       "      <td>NEW</td>\n",
       "      <td>적립금 있음 | 배송비 2500 | 리뷰 : 77</td>\n",
       "      <td>http://maychic.co.kr/web/product/medium/202008...</td>\n",
       "      <td>http://maychic.co.kr/product/detail.html?produ...</td>\n",
       "      <td>http://m.maychic.co.kr/product/detail.html?pro...</td>\n",
       "      <td>[메이시크] 쿨톤 벨벳틴트 선착순특가 품절임박 #착붙</td>\n",
       "      <td>7900</td>\n",
       "      <td>7900</td>\n",
       "      <td>False</td>\n",
       "      <td>nan</td>\n",
       "      <td>메이시크</td>\n",
       "      <td>ALL</td>\n",
       "    </tr>\n",
       "    <tr>\n",
       "      <th>2</th>\n",
       "      <td>32</td>\n",
       "      <td>in stock</td>\n",
       "      <td>NEW</td>\n",
       "      <td>적립금 있음 | 배송비 2500 | 리뷰 : 1153</td>\n",
       "      <td>http://maychic.co.kr/web/product/medium/201908...</td>\n",
       "      <td>http://maychic.co.kr/product/detail.html?produ...</td>\n",
       "      <td>http://m.maychic.co.kr/product/detail.html?pro...</td>\n",
       "      <td>[메이시크] 핑거팁 타투 아이브로우 틴트+가이드4종 증정 #눈썹타투펜 #롱래스팅</td>\n",
       "      <td>14900</td>\n",
       "      <td>14900</td>\n",
       "      <td>False</td>\n",
       "      <td>nan</td>\n",
       "      <td>메이시크</td>\n",
       "      <td>ALL</td>\n",
       "    </tr>\n",
       "    <tr>\n",
       "      <th>3</th>\n",
       "      <td>60</td>\n",
       "      <td>in stock</td>\n",
       "      <td>NEW</td>\n",
       "      <td>적립금 있음 | 배송비 2500 | 리뷰 : 103</td>\n",
       "      <td>http://maychic.co.kr/web/product/medium/202008...</td>\n",
       "      <td>http://maychic.co.kr/product/detail.html?produ...</td>\n",
       "      <td>http://m.maychic.co.kr/product/detail.html?pro...</td>\n",
       "      <td>[메이시크]24시간 유지되는 듀오립 #착붙</td>\n",
       "      <td>9900</td>\n",
       "      <td>9900</td>\n",
       "      <td>False</td>\n",
       "      <td>nan</td>\n",
       "      <td>메이시크</td>\n",
       "      <td>ALL</td>\n",
       "    </tr>\n",
       "    <tr>\n",
       "      <th>4</th>\n",
       "      <td>70</td>\n",
       "      <td>in stock</td>\n",
       "      <td>NEW</td>\n",
       "      <td>쿠폰 할인 | 적립금 있음 | 무료배송 | 리뷰 : 1136</td>\n",
       "      <td>http://maychic.co.kr/web/product/medium/202008...</td>\n",
       "      <td>http://maychic.co.kr/product/detail.html?produ...</td>\n",
       "      <td>http://m.maychic.co.kr/product/detail.html?pro...</td>\n",
       "      <td>[메이시크] 메이퀸 빅 커버쿠션 25g (픽서+퍼프 증정!)</td>\n",
       "      <td>20400</td>\n",
       "      <td>20400</td>\n",
       "      <td>False</td>\n",
       "      <td>nan</td>\n",
       "      <td>메이시크</td>\n",
       "      <td>ALL</td>\n",
       "    </tr>\n",
       "  </tbody>\n",
       "</table>\n",
       "</div>"
      ],
      "text/plain": [
       "   id availability condition                        description  \\\n",
       "0  13     in stock       NEW        적립금 있음 | 배송비 2500 | 리뷰 : 58   \n",
       "1  27     in stock       NEW        적립금 있음 | 배송비 2500 | 리뷰 : 77   \n",
       "2  32     in stock       NEW      적립금 있음 | 배송비 2500 | 리뷰 : 1153   \n",
       "3  60     in stock       NEW       적립금 있음 | 배송비 2500 | 리뷰 : 103   \n",
       "4  70     in stock       NEW  쿠폰 할인 | 적립금 있음 | 무료배송 | 리뷰 : 1136   \n",
       "\n",
       "                                          image_link  \\\n",
       "0  http://maychic.co.kr/web/product/medium/202008...   \n",
       "1  http://maychic.co.kr/web/product/medium/202008...   \n",
       "2  http://maychic.co.kr/web/product/medium/201908...   \n",
       "3  http://maychic.co.kr/web/product/medium/202008...   \n",
       "4  http://maychic.co.kr/web/product/medium/202008...   \n",
       "\n",
       "                                                link  \\\n",
       "0  http://maychic.co.kr/product/detail.html?produ...   \n",
       "1  http://maychic.co.kr/product/detail.html?produ...   \n",
       "2  http://maychic.co.kr/product/detail.html?produ...   \n",
       "3  http://maychic.co.kr/product/detail.html?produ...   \n",
       "4  http://maychic.co.kr/product/detail.html?produ...   \n",
       "\n",
       "                                      custom_label_0  \\\n",
       "0  http://m.maychic.co.kr/product/detail.html?pro...   \n",
       "1  http://m.maychic.co.kr/product/detail.html?pro...   \n",
       "2  http://m.maychic.co.kr/product/detail.html?pro...   \n",
       "3  http://m.maychic.co.kr/product/detail.html?pro...   \n",
       "4  http://m.maychic.co.kr/product/detail.html?pro...   \n",
       "\n",
       "                                          title  price sale_price   gtin  mpn  \\\n",
       "0                [메이시크] 아이브로우 가이드 4종 1set #롱래스팅   3500       3500  False  nan   \n",
       "1                 [메이시크] 쿨톤 벨벳틴트 선착순특가 품절임박 #착붙   7900       7900  False  nan   \n",
       "2  [메이시크] 핑거팁 타투 아이브로우 틴트+가이드4종 증정 #눈썹타투펜 #롱래스팅  14900      14900  False  nan   \n",
       "3                       [메이시크]24시간 유지되는 듀오립 #착붙   9900       9900  False  nan   \n",
       "4             [메이시크] 메이퀸 빅 커버쿠션 25g (픽서+퍼프 증정!)  20400      20400  False  nan   \n",
       "\n",
       "  brand product_type  \n",
       "0  메이시크         ALL   \n",
       "1  메이시크         ALL   \n",
       "2  메이시크         ALL   \n",
       "3  메이시크         ALL   \n",
       "4  메이시크         ALL   "
      ]
     },
     "execution_count": 24,
     "metadata": {},
     "output_type": "execute_result"
    }
   ],
   "source": [
    "tempdf.head()"
   ]
  },
  {
   "cell_type": "code",
   "execution_count": null,
   "metadata": {},
   "outputs": [],
   "source": []
  },
  {
   "cell_type": "markdown",
   "metadata": {},
   "source": [
    "## Export"
   ]
  },
  {
   "cell_type": "code",
   "execution_count": 25,
   "metadata": {},
   "outputs": [],
   "source": [
    "tempdf.to_csv('./data/export_ep.tsv', index=False, header=True, sep='\\t')    "
   ]
  },
  {
   "cell_type": "code",
   "execution_count": null,
   "metadata": {},
   "outputs": [],
   "source": []
  }
 ],
 "metadata": {
  "kernelspec": {
   "display_name": "Python 3",
   "language": "python",
   "name": "python3"
  },
  "language_info": {
   "codemirror_mode": {
    "name": "ipython",
    "version": 3
   },
   "file_extension": ".py",
   "mimetype": "text/x-python",
   "name": "python",
   "nbconvert_exporter": "python",
   "pygments_lexer": "ipython3",
   "version": "3.8.5"
  }
 },
 "nbformat": 4,
 "nbformat_minor": 4
}
