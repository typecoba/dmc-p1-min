{
 "cells": [
  {
   "cell_type": "code",
   "execution_count": 3,
   "metadata": {},
   "outputs": [
    {
     "output_type": "execute_result",
     "data": {
      "text/plain": [
       "'\\n// 기본\\nclass FeedConvert(config):\\n    def load\\n        \\n    def convert\\n        df.apply(lambda x : customConvert(x), axis=1)    \\n        df.apply(lambda x : mediaConvert(x), axis=1)\\n        \\n    def write\\n        \\n    def upload\\n        \\n\\n// 고객사별 조건\\ndef customConvert(df)    \\n    -lambda로 실행\\n    -관리편의를 위해 로직을 catalog id기준으로 묶어놓음\\n    -add/remove\\n    -fit field\\n    -replace value\\n    -set link\\n    -default value\\n\\n// 매체별 조건 (생략?)\\ndef FacebookConvert()\\ndef GoogleConvert()\\ndef CriteoConvert()\\n\\n// test 용이하도록\\n\\n// log 확인 \\n\\n// linux process 관리가능? \\n\\n'"
      ]
     },
     "metadata": {},
     "execution_count": 3
    }
   ],
   "source": [
    "'''\n",
    "ssg_ep의 경우 10G 다운받는과정만 6시간정도 걸리는데, \n",
    "대부분 mysql insert과정에서 시간소요되는듯\n",
    "다운을 먼저 받고 batch insert를 날리던가 \n",
    "db에 저장하지 않는 방식으로 진행하면 속도문제 해결\n",
    "\n",
    "181서버에서 10G다운받는 시간 약2분\n",
    "pandas를 통해 처리후 파일생성(zip) 시간 약3분\n",
    "\n",
    "증분업데이트도 이런식으로 처리하면 서버부하 거의없지않을까?\n",
    "피드내용 확인하는 로직만 필요없다면 가능할것같음\n",
    "\n",
    "fastapi로 api서버 구동해서 스케줄마다 실행시키면 관리하기 수월할듯?\n",
    "\n",
    "// 기본\n",
    "class FeedConvert(config):\n",
    "    def load\n",
    "        \n",
    "    def convert\n",
    "        df.apply(lambda x : customConvert(x), axis=1)    \n",
    "        df.apply(lambda x : mediaConvert(x), axis=1)\n",
    "        \n",
    "    def write\n",
    "        \n",
    "    def upload\n",
    "        \n",
    "\n",
    "// 고객사별 조건\n",
    "def customConvert(df)    \n",
    "    -lambda로 실행\n",
    "    -관리편의를 위해 로직을 catalog id기준으로 묶어놓음\n",
    "    -add/remove\n",
    "    -fit field\n",
    "    -replace value\n",
    "    -set link\n",
    "    -default value\n",
    "\n",
    "// 매체별 조건 (생략?)\n",
    "def FacebookConvert()\n",
    "def GoogleConvert()\n",
    "def CriteoConvert()\n",
    "\n",
    "// test 용이하도록\n",
    "\n",
    "// log 확인 \n",
    "\n",
    "// linux process 관리가능? \n",
    "\n",
    "'''"
   ]
  },
  {
   "cell_type": "markdown",
   "metadata": {},
   "source": [
    "### import"
   ]
  },
  {
   "cell_type": "code",
   "execution_count": 1,
   "metadata": {},
   "outputs": [],
   "source": [
    "import pandas as pd\n",
    "from lxml import etree\n",
    "import os\n",
    "import gc\n",
    "import zipfile"
   ]
  },
  {
   "cell_type": "markdown",
   "metadata": {},
   "source": [
    "### parameter"
   ]
  },
  {
   "cell_type": "code",
   "execution_count": 33,
   "metadata": {},
   "outputs": [],
   "source": [
    "config = {\n",
    "          'info': \n",
    "          {\n",
    "            'media': 'facebook',\n",
    "            'catalog_id' : '268046537186348',\n",
    "            'feed_id' : '',\n",
    "            'name': 'ssg_ep_test',\n",
    "          },\n",
    "          'read':\n",
    "          {\n",
    "            'path' : './data/dumy_10g.csv',\n",
    "            'format' : 'csv',\n",
    "            'encoding' : 'utf-16',\n",
    "            'chunkSize' : 100000\n",
    "          },\n",
    "          'write':{\n",
    "            'path': './data/saved_test.txt',\n",
    "            'zipPath': './data/zip_test.zip',\n",
    "            'encoding' : 'utf-8'\n",
    "          },\n",
    "          'field' : \n",
    "            {\n",
    "              'id' : 'id', \n",
    "              'title' : 'title',\n",
    "              'link' : 'link',\n",
    "              'image_link' : 'image_link',\n",
    "              'price' : 'value',\n",
    "              'brand' : 'brand',\n",
    "              'description' : 'description',\n",
    "              'availability' : 'availability'\n",
    "            },\n",
    "          'filter': # ep to feed\n",
    "            { \n",
    "              #'include' : {'id':['','','','']}, # 특정 값 포함           \n",
    "              'exclude' : {'title': ['마스크','소독제','손소독겔','새니타이저','손살균제','sanitizers','disinfection wipes']}, #키워드 제외\n",
    "              'replace' : {'title': {'before':'after'}}, # filed의 before->after 치환\n",
    "              'custom' : {'title': }\n",
    "            }\n",
    "         }"
   ]
  },
  {
   "cell_type": "markdown",
   "metadata": {},
   "source": [
    "### filter class"
   ]
  },
  {
   "cell_type": "code",
   "execution_count": 142,
   "metadata": {},
   "outputs": [],
   "source": [
    "class FeedConvert():\n",
    "    def __init__(self,config):\n",
    "        self.config = config\n",
    "        self.result = pd.DataFrame()\n",
    "\n",
    "    def init(self, dataframe):\n",
    "        # field\n",
    "        keys = list(self.config['field'].keys())\n",
    "        self.result = dataframe[keys] # 필요컬럼만 추출\n",
    "        self.result.rename(columns= self.config['field'], inplace=True) # key 수정        \n",
    "\n",
    "    def commonFilter(self):\n",
    "        # include\n",
    "        if 'include' in self.config['filter']:\n",
    "            keys = self.config['filter']['include'].keys()\n",
    "            for key in keys :\n",
    "                value = self.config['filter']['include'][key]\n",
    "                self.result = self.result.loc[self.result[key].isin(value)] #포함\n",
    "        # exclude\n",
    "        if 'exclude' in self.config['filter']:\n",
    "            keys = self.config['filter']['exclude'].keys()\n",
    "            for key in keys :\n",
    "                value = self.config['filter']['exclude'][key]\n",
    "                self.result = self.result.loc[~self.result[key].isin(value)] #제외\n",
    "\n",
    "        # replace\n",
    "        if 'replace' in self.config['filter']:\n",
    "            keys = self.config['filter']['replace'].keys()\n",
    "            for key in keys : \n",
    "                value = self.config['filter']['replace'][key]\n",
    "                before = list(value.keys())[0]\n",
    "                after = list(value.values())[0]                \n",
    "                self.result[key] = self.result[key].str.replace(before, after, regex=True) # regex사용 replace        \n",
    "\n",
    "    # 특수한 개별로직인 경우 config와 매칭시켜 개별관리\n",
    "    def customFilter(self):\n",
    "        media = self.config['info']['media']\n",
    "        catalog_id = self.config['info']['catalog_id']\n",
    "        name = self.config['info']['name']\n",
    "\n",
    "        if media == 'facebook' :\n",
    "            if name == 'ssg_ep_test' and catalog_id == '268046537186348' :\n",
    "                self.result['link'] = self.result['link'] + \"&test=1\"\n",
    "\n",
    "            elif name == 'test' and catalog_id == '0000000000000':\n",
    "                pass\n",
    "        \n",
    "\n",
    "    # 매체별 기본값 등    \n",
    "    def mediaFilter(self):\n",
    "        if self.config['info']['media'] == 'facebook' :\n",
    "            # availavility\n",
    "            if 'availavility' not in self.result :\n",
    "                self.result['availability'] = 'in stock'\n",
    "            # condition\n",
    "            if 'condition' not in self.result : \n",
    "                self.result['condition'] = 'new'\n",
    "            # description\n",
    "            if 'description' not in self.result :\n",
    "                self.result['description'] = self.result['title']\n",
    "\n",
    "\n",
    "    # 실행함수\n",
    "    def run(self, dataframe):\n",
    "        # 최초 초기화 set Fields\n",
    "        self.init(dataframe)\n",
    "        \n",
    "        # 공통 filter\n",
    "        self.commonFilter()\n",
    "        \n",
    "        # 개별 filter\n",
    "        self.customFilter()\n",
    "        \n",
    "        # 매체별 공통 filter\n",
    "        self.mediaFilter()\n",
    "        \n",
    "        return self.result"
   ]
  },
  {
   "cell_type": "code",
   "execution_count": 146,
   "metadata": {},
   "outputs": [],
   "source": [
    "\n",
    "class FeedConvertProcess():        \n",
    "    def __init__(self, config):\n",
    "        self.config = config\n",
    "        self.feedConvert = FeedConvert(self.config) #convert관리 class\n",
    "        \n",
    "        \n",
    "    def epLoad(self):        \n",
    "        # pixel로 관리되는 tracking data\n",
    "        \n",
    "        # ep데이터 있는경우\n",
    "        if config['read']['format'] == 'xml':\n",
    "            # xml은 따로 로드함\n",
    "            result = etree.iterparse(self.config['read']['path'])\n",
    "            \n",
    "        else:\n",
    "            # chunksize 단위로 쪼개서 로드        \n",
    "            result = pd.read_csv(self.config['read']['path'],\n",
    "                                 chunksize=self.config['read']['chunkSize'],\n",
    "                                 delimiter=',',\n",
    "                                 encoding=self.config['read']['encoding'])\n",
    "\n",
    "        # iterator포함 객체로 출력\n",
    "        return result\n",
    "        \n",
    "        \n",
    "    # def ep2Feed(self, df):        \n",
    "    #     # custom convert    \n",
    "    #     # media convert    \n",
    "    #     return result\n",
    "\n",
    "    def feedWrite(self, num, df):\n",
    "        if num == 0:\n",
    "            df.to_csv(self.config['write']['path'], index=True, sep='\\t', mode='w', encoding=self.config['write']['encoding'])\n",
    "        else:\n",
    "            df.to_csv(self.config['write']['path'], index=True, sep='\\t', mode='a', encoding=self.config['write']['encoding'], header=False)\n",
    "        \n",
    "        print((num+1)*self.config['read']['chunkSize'], end='..', flush=True)    \n",
    "    \n",
    "    def feedUpload(self):\n",
    "        # zip\n",
    "        zf = zipfile.ZipFile(self.config['write']['zipPath'], mode='w')\n",
    "        zf.write(self.config['write']['path'], compress_type=zipfile.ZIP_DEFLATED)\n",
    "        zf.close()\n",
    "        # upload\n",
    "        \n",
    "        # delete\n",
    "\n",
    "\n",
    "    def execute(self):                \n",
    "        for num, chunkDF in enumerate(self.epLoad()): # chunk load\n",
    "            # convert\n",
    "            chunkDF = self.feedConvert.run(chunkDF)\n",
    "\n",
    "            # file write\n",
    "            self.feedWrite(num, chunkDF)\n",
    "            \n",
    "            # gc\n",
    "            del [[chunkDF]]\n",
    "            gc.collect()\n",
    "\n",
    "            # break\n",
    "            # if num >= 0:\n",
    "            #     break\n",
    "                \n",
    "        \n",
    "        self.feedUpload()\n",
    "        "
   ]
  },
  {
   "cell_type": "code",
   "execution_count": 147,
   "metadata": {},
   "outputs": [],
   "source": [
    "fcp = FeedConvertProcess(config)"
   ]
  },
  {
   "cell_type": "code",
   "execution_count": 148,
   "metadata": {},
   "outputs": [
    {
     "output_type": "stream",
     "name": "stdout",
     "text": [
      "100000..200000..300000..400000..500000..600000..700000..800000..900000..1000000..1100000..1200000..1300000..1400000..1500000..1600000..1700000..1800000..1900000..2000000..2100000..2200000..2300000..2400000..2500000..2600000..2700000..2800000..2900000..3000000..3100000..3200000..3300000..3400000..3500000..3600000..3700000..3800000..3900000..4000000..4100000..4200000..4300000..4400000..4500000..4600000..4700000..4800000..4900000..5000000..5100000..5200000..5300000..5400000..5500000..5600000..5700000..5800000..5900000..6000000..6100000..6200000..6300000..6400000..6500000..6600000..6700000..6800000..6900000..7000000..7100000..7200000..7300000..7400000..7500000..7600000..7700000..7800000..7900000..8000000..8100000..8200000..8300000..8400000..8500000..8600000..8700000..8800000..8900000..9000000..9100000..9200000..9300000..9400000..9500000..9600000..Wall time: 4min 3s\n"
     ]
    }
   ],
   "source": [
    "%%time\n",
    "fcp.execute()"
   ]
  },
  {
   "cell_type": "code",
   "execution_count": null,
   "metadata": {},
   "outputs": [],
   "source": []
  },
  {
   "cell_type": "code",
   "execution_count": null,
   "metadata": {},
   "outputs": [],
   "source": [
    "import requests\n",
    "\n",
    "# facebook api\n",
    "class FacebookApiManager() :\n",
    "    def __init__(self):\n",
    "        pass\n",
    "\n",
    "    # app인증 후 토큰발급\n",
    "    def getAccessToken(self) :\n",
    "        version = '5.0'\n",
    "        client_id = ''\n",
    "        redirect_uri = ''\n",
    "        client_secret = ''\n",
    "        authorization_code = ''\n",
    "        url = '''https://graph.facebook.com/v{version}/oauth/access_token?\n",
    "                client_id={client_id}&redirect_uri={redirect_uri}&client_secret={client_secret}&code={authorization_code}'''\n",
    "                .format(version='5.0',client_id=client_id, redirect_id=redirect_id, authorization_code=authorization_code)\n",
    "\n",
    "        # request                 \n",
    "        pass\n",
    "\n",
    "    # 장기실행 엑세스 토큰 \n",
    "    def getLongAccessToken(self) :        \n",
    "        version = '5.0'\n",
    "        client_id = ''\n",
    "        redirect_uri = ''\n",
    "        client_secret = ''\n",
    "        access_token = ''\n",
    "        url = '''https://graph.facebook.com/v{version}/oauth/access_token?\n",
    "                grant_type=fb_exchange_token&client_id={client_id}&redirect_uri={redirect_uri}&client_secret={client_secret}&fb_exchange_token={access_token}'''\n",
    "                .format(version='5.0',client_id=client_id, redirect_id=redirect_id, access_token=access_token)\n",
    "\n",
    "        # request                 \n",
    "        pass\n",
    "\n",
    "    def feedUpload(self) :\n",
    "\n",
    "        feed_id = ''\n",
    "        version = '5.0'\n",
    "        access_token = 'EAACpvLy2z30BAAwB8uF80ZCIk4q5W1J71qdpO7FHS2CkYLZCVR9GGHuzre2NINYddP4ynDNm7KTFpZBMCQjN1lPyX0DugC8O2yKKwPt75Msq4dnrhkWCqVUHHFgTnhdU2fhhVg7dgJ7DLrsgpZB2iEBPZAbpBXaYIgmcor5JGRj5eQmzv7C8x'\n",
    "        feed_url = 'http://api.dmcf1.com/feed/482060879406329/watermark_se_482060879406329.json.gz'\n",
    "        url = 'https://graph.facebook.com/v{version}/{feed_id}/uploads?access_token={access_token}&url={url}'.format(version='5.0', feed_id='', access_token=token, url=feed_url)\n",
    "\n",
    "        # request\n",
    "        response = requests.post(url)\n",
    "        print(response.status_code)\n",
    "        print(response.text)\n",
    "        pass"
   ]
  },
  {
   "cell_type": "code",
   "execution_count": null,
   "metadata": {},
   "outputs": [],
   "source": []
  },
  {
   "cell_type": "code",
   "execution_count": null,
   "metadata": {},
   "outputs": [],
   "source": []
  },
  {
   "cell_type": "code",
   "execution_count": null,
   "metadata": {},
   "outputs": [],
   "source": []
  },
  {
   "cell_type": "code",
   "execution_count": null,
   "metadata": {},
   "outputs": [],
   "source": []
  },
  {
   "cell_type": "code",
   "execution_count": 3,
   "metadata": {},
   "outputs": [],
   "source": [
    "ep_path='C:\\\\Users\\\\shsun\\\\Documents\\\\workspace\\\\project\\\\p1\\\\f1_feed_change_min\\\\fastapi\\\\data\\\\ep\\\\ep_catalogid_154972755345007.tsv'"
   ]
  },
  {
   "cell_type": "code",
   "execution_count": 13,
   "metadata": {},
   "outputs": [],
   "source": [
    "load = pd.read_csv(ep_path,\n",
    "                    chunksize=1,\n",
    "                    nrows=1,\n",
    "                    header=0,\n",
    "                    sep='\\t',\n",
    "                    index_col=None,\n",
    "                    lineterminator='\\n',\n",
    "                    error_bad_lines=False,                  \n",
    "                    encoding='utf-8')"
   ]
  },
  {
   "cell_type": "code",
   "execution_count": 14,
   "metadata": {},
   "outputs": [
    {
     "output_type": "stream",
     "name": "stdout",
     "text": [
      "(0,       id               title  price_pc  \\\n0  21379  [강성은명과] 동백 세트 639g     39000   \n\n                                                link  \\\n0  https://www.hellonature.co.kr/fdp001.do?goTo=d...   \n\n                                          image_link category_name1  \\\n0  https://img-ex.hellonature.co.kr/images/ex/PGD...        생활·선물세트   \n\n  category_name2 category_name3 category_name4  brand  \\\n0           선물세트            기획전        음료/차/다과  강성은명과   \n\n                     maker   origin  coupon  point  review_count  shipping  \n0  생산자 : 강성은명과 / 서울시 서대문구   상세페이지참조     NaN    NaN            13      2500  )\n"
     ]
    }
   ],
   "source": [
    "for chunkDF in enumerate(load):    \n",
    "    print(chunkDF)\n",
    "    break"
   ]
  },
  {
   "cell_type": "code",
   "execution_count": null,
   "metadata": {},
   "outputs": [],
   "source": []
  }
 ],
 "metadata": {
  "kernelspec": {
   "display_name": "Python 3",
   "language": "python",
   "name": "python3"
  },
  "language_info": {
   "codemirror_mode": {
    "name": "ipython",
    "version": 3
   },
   "file_extension": ".py",
   "mimetype": "text/x-python",
   "name": "python",
   "nbconvert_exporter": "python",
   "pygments_lexer": "ipython3",
   "version": "3.8.5-final"
  }
 },
 "nbformat": 4,
 "nbformat_minor": 4
}