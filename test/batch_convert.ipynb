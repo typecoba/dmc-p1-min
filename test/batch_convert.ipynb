{
 "metadata": {
  "language_info": {
   "codemirror_mode": {
    "name": "ipython",
    "version": 3
   },
   "file_extension": ".py",
   "mimetype": "text/x-python",
   "name": "python",
   "nbconvert_exporter": "python",
   "pygments_lexer": "ipython3",
   "version": "3.8.5-final"
  },
  "orig_nbformat": 2,
  "kernelspec": {
   "name": "python3",
   "display_name": "Python 3",
   "language": "python"
  }
 },
 "nbformat": 4,
 "nbformat_minor": 2,
 "cells": [
  {
   "cell_type": "code",
   "execution_count": null,
   "metadata": {},
   "outputs": [],
   "source": [
    "'''\n",
    "ssg convert process용 임시\n",
    "-ep download\n",
    "-convert to feed\n",
    "-feed upload\n",
    "\n",
    "*대용량 카탈로그의 경우\n",
    "-피드 제품수 제한 (900만건 이상에서 오류남..) \n",
    "-facebook api 업로드 방식은 truncate insert / update only 두가지\n",
    "-피드 나누어 제품 업로드해야함\n",
    "-증분 업데이트시 개별 피드에 모두 해줘야함\n",
    "\n",
    "*일단구현\n",
    "-feed write시 \n",
    "-카탈로그에 나눠진 피드 upload\n",
    "-증분 업데이트 추가해야함\n",
    "-증분 업데이트는 피드별로 모두 upload(update_only)\n",
    "\n",
    "*ssg의 경우\n",
    "-카탈로그1 -> 카탈로그2 수정만해서 재배포 (링크값)\n",
    "-1,2 카탈로그 증분 업데이트\n",
    "-머천센터 업로드는 500만건으로 고정되어있음(확인?)\n",
    "-custom 링크/제외카테고리/이미지사이즈\n",
    "'''"
   ]
  },
  {
   "source": [
    "## Import"
   ],
   "cell_type": "markdown",
   "metadata": {}
  },
  {
   "cell_type": "code",
   "execution_count": 9,
   "metadata": {},
   "outputs": [],
   "source": [
    "import pandas as pd\n",
    "import os\n",
    "import gc\n",
    "import zipfile\n",
    "import requests\n",
    "import asyncio, aiohttp, aiofiles\n",
    "from starlette.config import Config\n",
    "from urllib import parse\n",
    "import json, time, datetime"
   ]
  },
  {
   "source": [
    "## config"
   ],
   "cell_type": "markdown",
   "metadata": {}
  },
  {
   "cell_type": "code",
   "execution_count": 36,
   "metadata": {},
   "outputs": [],
   "source": [
    "# config = {    \n",
    "#     \"info\" : {\n",
    "#         \"media\" : \"facebook\",\n",
    "#         \"catalog_id\" : \"268046537186348\",\n",
    "#         \"feed_id\" : {\"2499714026735797\",\"457448645680512\"}        \n",
    "#         \"name\" : \"ssg_ep_test\"\n",
    "#     },\n",
    "#     \"ep\" : {\n",
    "#         \"url\" : \"C:/Users/shsun/Documents/workspace/project/p1/f1_feed_change_min/test/data/ssg_10g.csv\",\n",
    "#         \"path\": \"C:/Users/shsun/Documents/workspace/project/p1/f1_feed_change_min/data/ep/ep_268046537186348.csv\",\n",
    "#         \"format\" : \"csv\",\n",
    "#         \"sep\" : \",\",\n",
    "#         \"encoding\" : \"utf-16\"        \n",
    "#     },\n",
    "#     \"feed\" : {\n",
    "#         \"path\": \"C:/Users/shsun/Documents/workspace/project/p1/f1_feed_change_min/data/feed/feed_268046537186348.tsv\",        \n",
    "#     },\n",
    "#     \"columns\" : {\n",
    "#         \"id\" : \"id\",\n",
    "#         \"title\" : \"title\",\n",
    "#         \"link\" : \"link\",\n",
    "#         \"image_link\" : \"image_link\",\n",
    "#         \"price\" : \"value\",\n",
    "#         \"brand\" : \"brand\",\n",
    "#         \"description\" : \"description\",\n",
    "#         \"availability\" : \"availability\",\n",
    "#         \"condition\" : \"condition\"\n",
    "#     }    \n",
    "# }"
   ]
  },
  {
   "cell_type": "code",
   "execution_count": 90,
   "metadata": {},
   "outputs": [],
   "source": [
    "config = {    \n",
    "    \"info\" : {\n",
    "        \"media\" : \"facebook\",        \n",
    "        \"catalog_id\" : \"432089861336082\",\n",
    "        \"feed_id\" : [\"236164118048821\",\"254210579552181\"],\n",
    "        \"name\" : \"hellonature_ep_test\"\n",
    "    },\n",
    "    \"ep\" : {        \n",
    "        \"url\" : \"http://ep.hellonature.co.kr/PGD/EP/NAVER/all.txt\",\n",
    "        \"path\": \"C:/Users/shsun/Documents/workspace/project/p1/f1_feed_change_min/data/ep/ep_432089861336082.csv\",\n",
    "        \"format\" : \"tsv\",\n",
    "        \"sep\" : \"\\t\",\n",
    "        \"encoding\" : \"utf-8\"\n",
    "    },\n",
    "    \"feed\" : {        \n",
    "        \"path\": \"C:/Users/shsun/Documents/workspace/project/p1/f1_feed_change_min/data/feed/feed_432089861336082.tsv\",\n",
    "    },\n",
    "    \"columns\" : {\n",
    "         \"id\" : \"id\",\n",
    "        \"title\" : \"title\",\n",
    "        \"link\" : \"link\",\n",
    "        \"image_link\" : \"image_link\",\n",
    "        \"price_pc\" : \"value\",\n",
    "        \"brand\" : \"brand\"\n",
    "    }    \n",
    "}"
   ]
  },
  {
   "source": [
    "## Util"
   ],
   "cell_type": "markdown",
   "metadata": {}
  },
  {
   "source": [
    "async def epDownload(fromUrl, toPath):\n",
    "    async with aiohttp.ClientSession() as session:\n",
    "        async with session.get(fromUrl) as response:\n",
    "            chunk_size = 1024*1024*10 # 10MB\n",
    "            async with aiofiles.open(toPath, 'wb') as f:\n",
    "                while True:\n",
    "                    chunk = await response.content.read(chunk_size)                        \n",
    "                    if not chunk : break\n",
    "                    await f.write(chunk)\n",
    "\n",
    "                # result = self.getInfo(toPath)\n",
    "                # self.logger.info('Download complete '+str(result))\n",
    "                # return result"
   ],
   "cell_type": "code",
   "metadata": {},
   "execution_count": 26,
   "outputs": []
  },
  {
   "cell_type": "code",
   "execution_count": 16,
   "metadata": {},
   "outputs": [],
   "source": [
    "def epLoad():\n",
    "    # 원본 컬럼리스트 확인\n",
    "    columns = pd.read_csv(\n",
    "        config['ep']['path'], \n",
    "        nrows=1, sep=config['ep']['sep'], \n",
    "        encoding=config['ep']['encoding']\n",
    "        )\n",
    "    columns = list(columns)\n",
    "\n",
    "    result = pd.read_csv(\n",
    "        config['ep']['path'],\n",
    "        nrows=None,\n",
    "        chunksize=1000,\n",
    "        header=0,\n",
    "        dtype=str,\n",
    "        sep=config['ep']['sep'],\n",
    "        error_bad_lines=False,\n",
    "        usecols=columns,\n",
    "        encoding=config['ep']['encoding']\n",
    "        )\n",
    "    return result\n"
   ]
  },
  {
   "cell_type": "code",
   "execution_count": 97,
   "metadata": {},
   "outputs": [],
   "source": [
    "async def feedWrite(num, feedPath, df):\n",
    "    # print(feedPath)\n",
    "    if num == 0:\n",
    "        mode='w' # 새로쓰기\n",
    "        header=True \n",
    "    else:\n",
    "        mode='a' # 이어쓰기\n",
    "        header=False\n",
    "        \n",
    "    df.to_csv(feedPath, \n",
    "                index=False, # 자체 인덱스제거\n",
    "                sep='\\t', \n",
    "                mode=mode,\n",
    "                header=header, # 컬럼명 \n",
    "                encoding='utf-8')"
   ]
  },
  {
   "cell_type": "code",
   "execution_count": 25,
   "metadata": {},
   "outputs": [],
   "source": [
    "async def facebookUpload( feed_id, feed_url, isUpdateOnly='false'):\n",
    "    api_url = f'https://graph.facebook.com/v9.0/{feed_id}/uploads'\n",
    "    params ={'update_only': isUpdateOnly ,'access_token': self.access_token, 'url': feed_url}       \n",
    "    async with aiohttp.ClientSession() as session:\n",
    "        async with session.post(api_url, data=params) as response:\n",
    "            result = await response.text()\n",
    "            self.logger.info('Result '+result)\n",
    "            return result "
   ]
  },
  {
   "cell_type": "code",
   "execution_count": 70,
   "metadata": {},
   "outputs": [],
   "source": [
    "def convertFilter(dataFrame):\n",
    "    result = dataFrame\n",
    "\n",
    "    keys = list(config['columns'].keys())\n",
    "    result = result[keys]\n",
    "    result.rename(columns=config['columns'], inplace=False)\n",
    "    \n",
    "    # 공백제거\n",
    "    for key in keys:\n",
    "        result[key] = result[key].str.strip()\n",
    "\n",
    "    # 기본값\n",
    "    if 'availability' not in result :\n",
    "        result['availability'] = 'in stock'\n",
    "    if 'condition' not in result : \n",
    "        result['condition'] = 'new'\n",
    "    if 'description' not in result :\n",
    "        result['description'] = result['title']\n",
    "\n",
    "    ########################\n",
    "    ## custom filter 작성 ##\n",
    "    ########################\n",
    "    \n",
    "    # SSG_EPPE / SSG_EPPE_IOS\n",
    "    if config['info']['catalog_id'] == '268046537186348' or config['info']['catalog_id'] == '225456985373646': \n",
    "        # link값 변경\n",
    "        item_id = result['id']\n",
    "        result['link'] = f'https://ad.adpool.co.kr/app/ssg/item/{item_id}'\n",
    "        \n",
    "        # 제외 title\n",
    "        stopword = ['마스크','소독제','손소독겔','새니타이저','손살균제','snitizers','disinfection wipes']\n",
    "        result = result[~result['title'].str.contains(stopword)]\n",
    "\n",
    "        # 이미지사이즈 조정?\n",
    "        result['image_link'] = result['image_link'].str.replace('_500','_600', regex=False)\n",
    "\n",
    "    elif config['info']['catalog_id'] == '':\n",
    "        pass\n",
    "\n",
    "    return result\n",
    "\n",
    "        \n",
    "\n",
    "\n"
   ]
  },
  {
   "source": [
    "## Convert Process"
   ],
   "cell_type": "markdown",
   "metadata": {}
  },
  {
   "cell_type": "code",
   "execution_count": 98,
   "metadata": {},
   "outputs": [],
   "source": [
    "'''\n",
    "대용량파일의 경우 분할하여 저장..(카탈로그 내 피드가 여러개인 경우)\n",
    "'''\n",
    "\n",
    "async def execute():\n",
    "    # ep download\n",
    "    await epDownload(config['ep']['url'], config['ep']['path'])\n",
    "\n",
    "    # total\n",
    "    totalCount = 0\n",
    "    totalChunkCount = 0\n",
    "    for num, chunkDF in enumerate(epLoad()):\n",
    "        totalCount = totalCount + len(chunkDF)\n",
    "        totalChunkCount = num\n",
    "\n",
    "    # segmentation\n",
    "    feedCount = len(config['info']['feed_id']) # 카탈로그당 나눈 피드갯수\n",
    "    chunkCountPerFeed = int(totalChunkCount/feedCount) # 피드하나당 chunk갯수\n",
    "    print(f'chunkCountPerFeed - {chunkCountPerFeed}')\n",
    "\n",
    "\n",
    "    # chunk read\n",
    "    count = 0\n",
    "    feedFileIndex=0\n",
    "    for num, chunkDF in enumerate(epLoad()):\n",
    "        count = count + len(chunkDF)\n",
    "\n",
    "        # filter\n",
    "        chunkDF = convertFilter(chunkDF)\n",
    "\n",
    "        # write\n",
    "        segmentIndex = num % chunkCountPerFeed # feed_id당 배분될 chunk만큼의 index 생성\n",
    "        if segmentIndex == 0: # 0일때마다 feed 분할\n",
    "            feedSecPath = str(config['feed']['path']).replace('.tsv', f'_{feedFileIndex}.tsv')\n",
    "            feedFileIndex = feedFileIndex + 1\n",
    "    \n",
    "    \n",
    "        await feedWrite(segmentIndex, feedSecPath, chunkDF)\n",
    "\n",
    "        del[[chunkDF]]\n",
    "        gc.collect()\n",
    "\n",
    "        # break\n",
    "\n",
    "\n",
    "    # facebook api upload"
   ]
  },
  {
   "cell_type": "code",
   "execution_count": null,
   "metadata": {},
   "outputs": [],
   "source": []
  },
  {
   "cell_type": "code",
   "execution_count": 99,
   "metadata": {},
   "outputs": [
    {
     "output_type": "stream",
     "name": "stdout",
     "text": [
      "chunkCountPerFeed - 1\n"
     ]
    }
   ],
   "source": [
    "await execute()"
   ]
  },
  {
   "cell_type": "code",
   "execution_count": 31,
   "metadata": {},
   "outputs": [],
   "source": [
    "await epDownload(config['ep']['url'], config['ep']['path'])"
   ]
  },
  {
   "cell_type": "code",
   "execution_count": null,
   "metadata": {},
   "outputs": [],
   "source": []
  }
 ]
}