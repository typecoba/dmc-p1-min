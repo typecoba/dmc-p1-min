{
 "metadata": {
  "language_info": {
   "codemirror_mode": {
    "name": "ipython",
    "version": 3
   },
   "file_extension": ".py",
   "mimetype": "text/x-python",
   "name": "python",
   "nbconvert_exporter": "python",
   "pygments_lexer": "ipython3",
   "version": "3.8.5-final"
  },
  "orig_nbformat": 2,
  "kernelspec": {
   "name": "python3",
   "display_name": "Python 3",
   "language": "python"
  }
 },
 "nbformat": 4,
 "nbformat_minor": 2,
 "cells": [
  {
   "cell_type": "code",
   "execution_count": 1,
   "metadata": {},
   "outputs": [
    {
     "output_type": "execute_result",
     "data": {
      "text/plain": [
       "'\\nssg convert process용 임시\\n-ep download\\n-convert to feed\\n-feed upload\\n\\n*대용량 카탈로그의 경우\\n-피드 제품수 제한 (900만건 이상에서 오류남..) \\n-facebook api 업로드 방식은 truncate insert / update only 두가지\\n-피드 나누어 제품 업로드해야함\\n-증분 업데이트시 개별 피드에 모두 해줘야함\\n\\n*일단구현\\n-feed write시 \\n-카탈로그에 나눠진 피드 upload\\n-증분 업데이트 추가해야함\\n-증분 업데이트는 피드별로 모두 upload(update_only)\\n\\n*ssg의 경우\\n-카탈로그1 -> 카탈로그2 수정만해서 재배포 (링크값)\\n-1,2 카탈로그 증분 업데이트\\n-머천센터 업로드는 500만건으로 고정되어있음(확인?)\\n-custom 링크/제외카테고리/이미지사이즈\\n'"
      ]
     },
     "metadata": {},
     "execution_count": 1
    }
   ],
   "source": [
    "'''\n",
    "ssg convert process용 임시\n",
    "-ep download\n",
    "-convert to feed\n",
    "-feed upload\n",
    "\n",
    "*대용량 카탈로그의 경우\n",
    "-피드 제품수 제한 (900만건 이상에서 오류남..) \n",
    "-facebook api 업로드 방식은 truncate insert / update only 두가지\n",
    "-피드 나누어 제품 업로드해야함\n",
    "-증분 업데이트시 개별 피드에 모두 해줘야함\n",
    "\n",
    "*일단구현\n",
    "-feed write시 \n",
    "-카탈로그에 나눠진 피드 upload\n",
    "-증분 업데이트 추가해야함\n",
    "-증분 업데이트는 피드별로 모두 upload(update_only)\n",
    "\n",
    "*ssg의 경우\n",
    "-카탈로그1 -> 카탈로그2 수정만해서 재배포 (링크값)\n",
    "-1,2 카탈로그 증분 업데이트\n",
    "-머천센터 업로드는 500만건으로 고정되어있음(확인?)\n",
    "-custom 링크/제외카테고리/이미지사이즈\n",
    "'''"
   ]
  },
  {
   "source": [
    "## Import"
   ],
   "cell_type": "markdown",
   "metadata": {}
  },
  {
   "cell_type": "code",
   "execution_count": 11,
   "metadata": {},
   "outputs": [],
   "source": [
    "import pandas as pd\n",
    "import os\n",
    "import gc\n",
    "import zipfile\n",
    "import requests\n",
    "import asyncio, aiohttp, aiofiles\n",
    "from starlette.config import Config\n",
    "from urllib import parse\n",
    "import json, time, datetime"
   ]
  },
  {
   "source": [
    "## config"
   ],
   "cell_type": "markdown",
   "metadata": {}
  },
  {
   "cell_type": "code",
   "execution_count": 2,
   "metadata": {},
   "outputs": [],
   "source": [
    "# ### ssg_eppe\n",
    "config = {    \n",
    "    \"info\" : {\n",
    "        \"media\" : \"facebook\",\n",
    "        \"catalog_id\" : \"268046537186348\",        \n",
    "        \"feed_id\" : [\"2499714026735797\",\"457448645680512\",\"887702468681795\",\"933601424073448\",\"433956697833525\"],\n",
    "        \"name\" : \"ssg_ep_segment_test\"\n",
    "    },\n",
    "    \"ep\" : {\n",
    "        \"url\" : \"C:/Users/shsun/Documents/workspace/project/p1/f1_feed_change_min/test/data/ssg_facebookNoCkwhereEpAll.csv\",\n",
    "        \"path\": \"C:/Users/shsun/Documents/workspace/project/p1/f1_feed_change_min/data/ep/ep_268046537186348.csv\",\n",
    "        \"format\" : \"csv\",\n",
    "        \"sep\" : \",\",\n",
    "        \"encoding\" : \"utf-16\",\n",
    "        \"cron\" : \"\"\n",
    "    },\n",
    "    \"ep_update\" : {\n",
    "        \"url\" : \"C:/Users/shsun/Documents/workspace/project/p1/f1_feed_change_min/test/data/ssg_facebookNoCkwhereEpBrief.csv\",\n",
    "        \"path\" : \"C:/Users/shsun/Documents/workspace/project/p1/f1_feed_change_min/data/ep/ep_268046537186348_update.csv\",\n",
    "        \"format\" : \"csv\",\n",
    "        \"sep\" : \",\",\n",
    "        \"encoding\" : \"utf-16\",\n",
    "        \"cron\" : \"\"\n",
    "    },\n",
    "    \"feed\" : {\n",
    "        \"path\": \"C:/Users/shsun/Documents/workspace/project/p1/f1_feed_change_min/data/feed/feed_268046537186348.tsv\",\n",
    "    },\n",
    "    \"feed_update\" : {\n",
    "        \"path\": \"C:/Users/shsun/Documents/workspace/project/p1/f1_feed_change_min/data/feed/feed_268046537186348_update.tsv\"\n",
    "    },\n",
    "    \"columns\" : {\n",
    "        \"id\" : \"id\",\n",
    "        \"title\" : \"title\",\n",
    "        \"link\" : \"link\",\n",
    "        \"image_link\" : \"image_link\",\n",
    "        \"price\" : \"value\",\n",
    "        \"brand\" : \"brand\",\n",
    "        \"description\" : \"description\",\n",
    "        \"availability\" : \"availability\",\n",
    "        \"condition\" : \"condition\"\n",
    "    },\n",
    "    \"status\" : \"\"\n",
    "}"
   ]
  },
  {
   "cell_type": "code",
   "execution_count": 103,
   "metadata": {},
   "outputs": [],
   "source": [
    "### ssg_eppe_ios\n",
    "# update는 config새로 만들고 status값 추가\n",
    "# config = {    \n",
    "#     \"info\" : {\n",
    "#         \"media\" : \"facebook\",\n",
    "#         \"catalog_id\" : \"225456985373646\",        \n",
    "#         \"feed_id\" : [\"2433331320101804\",\"704765896857210\",\"136652408333414\",\"250350879959740\",\"2477650072531024\"],\n",
    "#         \"name\" : \"ssg_ep_ios_segment_test\"\n",
    "#     },\n",
    "#     \"ep\" : {\n",
    "#         \"url\" : \"C:/Users/shsun/Documents/workspace/project/p1/f1_feed_change_min/test/data/ssg_facebookNoCkwhereEpAll.csv\",\n",
    "#         \"path\": \"C:/Users/shsun/Documents/workspace/project/p1/f1_feed_change_min/data/ep/ep_268046537186348.csv\",        \n",
    "#         \"format\" : \"csv\",\n",
    "#         \"sep\" : \",\",\n",
    "#         \"encoding\" : \"utf-16\"\n",
    "#     },    \n",
    "#     \"feed\" : {\n",
    "#         \"path\": \"C:/Users/shsun/Documents/workspace/project/p1/f1_feed_change_min/data/feed/feed_225456985373646.tsv\",        \n",
    "#     },\n",
    "#     \"columns\" : {\n",
    "#         \"id\" : \"id\",\n",
    "#         \"title\" : \"title\",\n",
    "#         \"link\" : \"link\",\n",
    "#         \"image_link\" : \"image_link\",\n",
    "#         \"price\" : \"value\",\n",
    "#         \"brand\" : \"brand\",\n",
    "#         \"description\" : \"description\",\n",
    "#         \"availability\" : \"availability\",\n",
    "#         \"condition\" : \"condition\"\n",
    "#     }    \n",
    "# }"
   ]
  },
  {
   "cell_type": "code",
   "execution_count": 104,
   "metadata": {},
   "outputs": [],
   "source": [
    "# config = {    \n",
    "#     \"info\" : {\n",
    "#         \"media\" : \"facebook\",        \n",
    "#         \"catalog_id\" : \"432089861336082\", # test_선상협\n",
    "#         \"feed_id\" : [\"236164118048821\",\"254210579552181\"],\n",
    "#         \"name\" : \"test_feed_upload\"\n",
    "#     },\n",
    "#     \"ep\" : {        \n",
    "#         \"url\" : \"http://ep.hellonature.co.kr/PGD/EP/NAVER/all.txt\",\n",
    "#         \"path\": \"C:/Users/shsun/Documents/workspace/project/p1/f1_feed_change_min/data/ep/ep_432089861336082.csv\",\n",
    "#         \"format\" : \"tsv\",\n",
    "#         \"sep\" : \"\\t\",\n",
    "#         \"encoding\" : \"utf-8\"\n",
    "#     },\n",
    "#     \"feed\" : {        \n",
    "#         \"path\": \"C:/Users/shsun/Documents/workspace/project/p1/f1_feed_change_min/data/feed/feed_432089861336082.tsv\",\n",
    "#     },\n",
    "#     \"columns\" : {\n",
    "#          \"id\" : \"id\",\n",
    "#         \"title\" : \"title\",\n",
    "#         \"link\" : \"link\",\n",
    "#         \"image_link\" : \"image_link\",\n",
    "#         \"price_pc\" : \"value\",\n",
    "#         \"brand\" : \"brand\"\n",
    "#     }    \n",
    "# }"
   ]
  },
  {
   "source": [
    "## Util"
   ],
   "cell_type": "markdown",
   "metadata": {}
  },
  {
   "source": [
    "'''\n",
    "다운로드시 파일 작성시간 확인 체크 필요\n",
    "'''\n",
    "async def epDownload(fromUrl, toPath):\n",
    "    async with aiohttp.ClientSession() as session:\n",
    "        async with session.get(fromUrl) as response:\n",
    "            chunk_size = 1024*1024*10 # 10MB\n",
    "            async with aiofiles.open(toPath, 'wb') as f:\n",
    "                while True:\n",
    "                    chunk = await response.content.read(chunk_size)                        \n",
    "                    if not chunk : break\n",
    "                    await f.write(chunk)\n",
    "\n",
    "                # result = self.getInfo(toPath)\n",
    "                # self.logger.info('Download complete '+str(result))\n",
    "                # return result"
   ],
   "cell_type": "code",
   "metadata": {},
   "execution_count": 3,
   "outputs": []
  },
  {
   "cell_type": "code",
   "execution_count": 4,
   "metadata": {},
   "outputs": [],
   "source": [
    "def epLoad():\n",
    "    # 원본 컬럼리스트 확인\n",
    "    columns = pd.read_csv(\n",
    "        config['ep']['path'], \n",
    "        nrows=1, sep=config['ep']['sep'], \n",
    "        encoding=config['ep']['encoding']\n",
    "        )\n",
    "    columns = list(columns)\n",
    "\n",
    "    result = pd.read_csv(\n",
    "        config['ep']['path'],\n",
    "        nrows=None,\n",
    "        chunksize=100000,\n",
    "        header=0,\n",
    "        dtype=str,\n",
    "        sep=config['ep']['sep'],\n",
    "        error_bad_lines=False,\n",
    "        usecols=columns,\n",
    "        encoding=config['ep']['encoding']\n",
    "        )\n",
    "    return result\n"
   ]
  },
  {
   "cell_type": "code",
   "execution_count": 5,
   "metadata": {},
   "outputs": [],
   "source": [
    "async def feedWrite(num, feedPath, df):\n",
    "    # print(feedPath)\n",
    "    if num == 0:\n",
    "        mode='w' # 새로쓰기\n",
    "        header=True \n",
    "    else:\n",
    "        mode='a' # 이어쓰기\n",
    "        header=False\n",
    "        \n",
    "    df.to_csv(feedPath, \n",
    "                index=False, # 자체 인덱스제거\n",
    "                sep='\\t', \n",
    "                mode=mode,\n",
    "                header=header, # 컬럼명 \n",
    "                encoding='utf-8')"
   ]
  },
  {
   "cell_type": "code",
   "execution_count": 6,
   "metadata": {},
   "outputs": [],
   "source": [
    "'''\n",
    "feed파일 로컬에선 테스트불가\n",
    "'''\n",
    "async def facebookUpload( feed_id, feed_url, isUpdateOnly='false'):\n",
    "    access_token = 'EAACpvLy2z30BAKxprnqZBpE8pfa08FVn6ya32d9TQk6wbXC4fmINmN8MVBur2eKGtYysSmMXMkttVg6s1bWu2yscUwEEZAdjJpRXyjxThbcuRYcKeSPMQm8ZAWhp4l5d6urUfxcjcY0UEVf46TpfhdlmSdKvlKbmxTIm6sc3xn2kIIWU6VX'\n",
    "    api_url = f'https://graph.facebook.com/v9.0/{feed_id}/uploads'\n",
    "    params ={'update_only': isUpdateOnly ,'access_token': access_token, 'url': feed_url}\n",
    "    async with aiohttp.ClientSession() as session:\n",
    "        async with session.post(api_url, data=params) as response:\n",
    "            result = await response.text()            \n",
    "            return result "
   ]
  },
  {
   "cell_type": "code",
   "execution_count": 7,
   "metadata": {},
   "outputs": [],
   "source": [
    "def convertFilter(dataFrame):\n",
    "    result = dataFrame\n",
    "\n",
    "    keys = list(config['columns'].keys())\n",
    "    result = result[keys]\n",
    "    result.rename(columns=config['columns'], inplace=False)\n",
    "    \n",
    "    # 공백제거\n",
    "    for key in keys:\n",
    "        result[key] = result[key].str.strip()\n",
    "\n",
    "    # 기본값\n",
    "    if 'availability' not in result.columns :\n",
    "        result['availability'] = 'in stock'\n",
    "    if 'condition' not in result.columns : \n",
    "        result['condition'] = 'new'\n",
    "    if 'description' not in result.columns :\n",
    "        result['description'] = result['title'].str.lower()\n",
    "    else : \n",
    "        result['description'] = result['description'].str.lower()\n",
    "\n",
    "    ########################\n",
    "    ## custom filter 작성 ##\n",
    "    ########################\n",
    "    catalog_id = config['info']['catalog_id']\n",
    "\n",
    "\n",
    "    # SSG_EPPE / SSG_EPPE_IOS\n",
    "    if catalog_id == '268046537186348' or catalog_id == '225456985373646':                \n",
    "        # 제외 title\n",
    "        stopword = ['마스크','소독제','손소독겔','새니타이저','손살균제','snitizers','disinfection wipes']\n",
    "        result = result[~result['title'].str.contains('|'.join(stopword))]\n",
    "\n",
    "        # 이미지사이즈 조정?\n",
    "        result['image_link'] = result['image_link'].str.replace('_500','_600', regex=False)\n",
    "\n",
    "        # link값 변경        \n",
    "        if catalog_id=='268046537186348' : # ssg_eppe            \n",
    "            result['link'] = 'https://ad.adpool.co.kr/app/ssg/item/'+result['id'] # f''으로 적용하면 axis가 안맞는듯?\n",
    "\n",
    "        elif catalog_id=='225456985373646' : # ssg_eppe_ios            \n",
    "            result['link'] = 'http://m.ssg.com/item/itemView.ssg?itemId='+result['id']+'&gateYn=Y&mobilAppSvcNo=3'\n",
    "                        \n",
    "\n",
    "    elif catalog_id == '':\n",
    "        pass\n",
    "\n",
    "    return result"
   ]
  },
  {
   "cell_type": "code",
   "execution_count": 8,
   "metadata": {},
   "outputs": [],
   "source": [
    "def zipped(fromPath, toPath):\n",
    "    os.makedirs(os.path.dirname(toPath), exist_ok=True) # 경로확인/생성    \n",
    "    zip = zipfile.ZipFile(toPath, 'w')\n",
    "    zip.write(fromPath, compress_type=zipfile.ZIP_DEFLATED)    "
   ]
  },
  {
   "source": [
    "## Convert Process"
   ],
   "cell_type": "markdown",
   "metadata": {}
  },
  {
   "cell_type": "code",
   "execution_count": 9,
   "metadata": {},
   "outputs": [],
   "source": [
    "\n",
    "'''\n",
    "대용량파일의 경우 분할하여 저장..(카탈로그 내 피드가 여러개인 경우)\n",
    "'''\n",
    "async def execute():\n",
    "    # ep download\n",
    "    # await epDownload(config['ep']['url'], config['ep']['path'])\n",
    "\n",
    "    # total\n",
    "    totalCount = 0\n",
    "    totalChunkCount = 0\n",
    "    for num, chunkDF in enumerate(epLoad()):\n",
    "        totalCount = totalCount + chunkDF.shape[0]\n",
    "        totalChunkCount = num # 최종 num 저장됨\n",
    "        \n",
    "        del[[chunkDF]]\n",
    "        gc.collect()\n",
    "\n",
    "    # segmentation\n",
    "    feedCount = len(config['info']['feed_id']) # 카탈로그당 나눈 피드갯수\n",
    "    chunkCountPerFeed = int(round(totalChunkCount/feedCount)) # 피드하나당 chunk갯수\n",
    "    print(f'totalChunkCount : {totalChunkCount}')\n",
    "    print(f'feedCount : {feedCount}')\n",
    "    print(f'chunkCountPerFeed : {chunkCountPerFeed}')\n",
    "\n",
    "\n",
    "    # chunk read\n",
    "    count = 0\n",
    "    feedIndex=0\n",
    "    for num, chunkDF in enumerate(epLoad()):\n",
    "        # print(chunkDF.head())\n",
    "        count = count + chunkDF.shape[0]\n",
    "        print(f'{round(num/totalChunkCount*100)}%', end='...')\n",
    "\n",
    "        # filter\n",
    "        chunkDF = convertFilter(chunkDF)\n",
    "\n",
    "        # write        \n",
    "        segmentIndex = num % chunkCountPerFeed # feed_id당 배분될 chunk만큼의 index 생성\n",
    "        # print(f'segmentIndex : {segmentIndex}')\n",
    "        \n",
    "        if segmentIndex == 0: # 0일때마다 feed 분할\n",
    "            feed_id = config['info']['feed_id'][feedIndex]\n",
    "            feedSecPath = str(config['feed']['path']).replace('.tsv', f'_{feed_id}.tsv')\n",
    "            if feedIndex < len(config['info']['feed_id'])-1:\n",
    "                feedIndex = feedIndex + 1\n",
    "    \n",
    "            \n",
    "        await feedWrite(segmentIndex, feedSecPath, chunkDF) #feed분할 적용       \n",
    "        # await feedWrite(num, config['feed']['path'], chunkDF)\n",
    "            \n",
    "        del[[chunkDF]]\n",
    "        gc.collect()\n",
    "\n",
    "        # break\n",
    "\n",
    "    # 속도가 아쉬움..압축을 안한다면?\n",
    "    # catalog내 feed분할 업로드 위한 압축\n",
    "    catalog_id = config['info']['catalog_id']\n",
    "    for num, feed_id in enumerate(config['info']['feed_id']):\n",
    "        feedPath = f'C:/Users/shsun/Documents/workspace/project/p1/f1_feed_change_min/data/feed/feed_{catalog_id}_{feed_id}.tsv'\n",
    "        zipPath = f'C:/Users/shsun/Documents/workspace/project/p1/f1_feed_change_min/data/feed/feed_{catalog_id}_{feed_id}.zip'\n",
    "        zipped(feedPath, zipPath)\n",
    "\n",
    "        # facebook api upload\n",
    "        # print(await uploadAPI(feed_id, feedZipPath))"
   ]
  },
  {
   "cell_type": "code",
   "execution_count": null,
   "metadata": {},
   "outputs": [],
   "source": []
  },
  {
   "cell_type": "code",
   "execution_count": 12,
   "metadata": {},
   "outputs": [
    {
     "output_type": "stream",
     "name": "stdout",
     "text": [
      "totalChunkCount : 111\n",
      "feedCount : 5\n",
      "chunkCountPerFeed : 22\n",
      "0%...1%...2%...3%...4%...5%...5%...6%...7%...8%...9%...10%...11%...12%...13%...14%...14%...15%...16%...17%...18%...19%...20%...21%...22%...23%...23%...24%...25%...26%...27%...28%...29%...30%...31%...32%...32%...33%...34%...35%...36%...37%...38%...39%...40%...41%...41%...42%...43%...44%...45%...46%...47%...48%...49%...50%...50%...51%...52%...53%...54%...55%...56%...57%...58%...59%...59%...60%...61%...62%...63%...64%...65%...66%...67%...68%...68%...69%...70%...71%...72%...73%...74%...75%...76%...77%...77%...78%...79%...80%...81%...82%...83%...84%...85%...86%...86%...87%...88%...89%...90%...91%...92%...93%...94%...95%...95%...96%...97%...98%...99%...100%..."
     ]
    }
   ],
   "source": [
    "await execute()"
   ]
  },
  {
   "cell_type": "code",
   "execution_count": 62,
   "metadata": {},
   "outputs": [
    {
     "output_type": "error",
     "ename": "CancelledError",
     "evalue": "",
     "traceback": [
      "\u001b[1;31m---------------------------------------------------------------------------\u001b[0m",
      "\u001b[1;31mCancelledError\u001b[0m                            Traceback (most recent call last)",
      "\u001b[1;32m<ipython-input-62-1302c150c5aa>\u001b[0m in \u001b[0;36m<module>\u001b[1;34m\u001b[0m\n\u001b[1;32m----> 1\u001b[1;33m \u001b[1;32mawait\u001b[0m \u001b[0mepDownload\u001b[0m\u001b[1;33m(\u001b[0m\u001b[0mconfig\u001b[0m\u001b[1;33m[\u001b[0m\u001b[1;34m'ep'\u001b[0m\u001b[1;33m]\u001b[0m\u001b[1;33m[\u001b[0m\u001b[1;34m'url'\u001b[0m\u001b[1;33m]\u001b[0m\u001b[1;33m,\u001b[0m \u001b[0mconfig\u001b[0m\u001b[1;33m[\u001b[0m\u001b[1;34m'ep'\u001b[0m\u001b[1;33m]\u001b[0m\u001b[1;33m[\u001b[0m\u001b[1;34m'path'\u001b[0m\u001b[1;33m]\u001b[0m\u001b[1;33m)\u001b[0m\u001b[1;33m\u001b[0m\u001b[1;33m\u001b[0m\u001b[0m\n\u001b[0m",
      "\u001b[1;32m<ipython-input-56-b9ac5c78e152>\u001b[0m in \u001b[0;36mepDownload\u001b[1;34m(fromUrl, toPath)\u001b[0m\n\u001b[0;32m     10\u001b[0m                     \u001b[0mchunk\u001b[0m \u001b[1;33m=\u001b[0m \u001b[1;32mawait\u001b[0m \u001b[0mresponse\u001b[0m\u001b[1;33m.\u001b[0m\u001b[0mcontent\u001b[0m\u001b[1;33m.\u001b[0m\u001b[0mread\u001b[0m\u001b[1;33m(\u001b[0m\u001b[0mchunk_size\u001b[0m\u001b[1;33m)\u001b[0m\u001b[1;33m\u001b[0m\u001b[1;33m\u001b[0m\u001b[0m\n\u001b[0;32m     11\u001b[0m                     \u001b[1;32mif\u001b[0m \u001b[1;32mnot\u001b[0m \u001b[0mchunk\u001b[0m \u001b[1;33m:\u001b[0m \u001b[1;32mbreak\u001b[0m\u001b[1;33m\u001b[0m\u001b[1;33m\u001b[0m\u001b[0m\n\u001b[1;32m---> 12\u001b[1;33m                     \u001b[1;32mawait\u001b[0m \u001b[0mf\u001b[0m\u001b[1;33m.\u001b[0m\u001b[0mwrite\u001b[0m\u001b[1;33m(\u001b[0m\u001b[0mchunk\u001b[0m\u001b[1;33m)\u001b[0m\u001b[1;33m\u001b[0m\u001b[1;33m\u001b[0m\u001b[0m\n\u001b[0m\u001b[0;32m     13\u001b[0m \u001b[1;33m\u001b[0m\u001b[0m\n\u001b[0;32m     14\u001b[0m                 \u001b[1;31m# result = self.getInfo(toPath)\u001b[0m\u001b[1;33m\u001b[0m\u001b[1;33m\u001b[0m\u001b[1;33m\u001b[0m\u001b[0m\n",
      "\u001b[1;32mC:\\anaconda\\lib\\site-packages\\aiofiles\\base.py\u001b[0m in \u001b[0;36m__aexit__\u001b[1;34m(self, exc_type, exc_val, exc_tb)\u001b[0m\n\u001b[0;32m     85\u001b[0m \u001b[1;33m\u001b[0m\u001b[0m\n\u001b[0;32m     86\u001b[0m     \u001b[1;32masync\u001b[0m \u001b[1;32mdef\u001b[0m \u001b[0m__aexit__\u001b[0m\u001b[1;33m(\u001b[0m\u001b[0mself\u001b[0m\u001b[1;33m,\u001b[0m \u001b[0mexc_type\u001b[0m\u001b[1;33m,\u001b[0m \u001b[0mexc_val\u001b[0m\u001b[1;33m,\u001b[0m \u001b[0mexc_tb\u001b[0m\u001b[1;33m)\u001b[0m\u001b[1;33m:\u001b[0m\u001b[1;33m\u001b[0m\u001b[1;33m\u001b[0m\u001b[0m\n\u001b[1;32m---> 87\u001b[1;33m         \u001b[1;32mawait\u001b[0m \u001b[0mself\u001b[0m\u001b[1;33m.\u001b[0m\u001b[0m_obj\u001b[0m\u001b[1;33m.\u001b[0m\u001b[0mclose\u001b[0m\u001b[1;33m(\u001b[0m\u001b[1;33m)\u001b[0m\u001b[1;33m\u001b[0m\u001b[1;33m\u001b[0m\u001b[0m\n\u001b[0m\u001b[0;32m     88\u001b[0m         \u001b[0mself\u001b[0m\u001b[1;33m.\u001b[0m\u001b[0m_obj\u001b[0m \u001b[1;33m=\u001b[0m \u001b[1;32mNone\u001b[0m\u001b[1;33m\u001b[0m\u001b[1;33m\u001b[0m\u001b[0m\n",
      "\u001b[1;32mC:\\anaconda\\lib\\site-packages\\aiofiles\\threadpool\\utils.py\u001b[0m in \u001b[0;36mmethod\u001b[1;34m(self, *args, **kwargs)\u001b[0m\n\u001b[0;32m     34\u001b[0m     \u001b[1;32mdef\u001b[0m \u001b[0mmethod\u001b[0m\u001b[1;33m(\u001b[0m\u001b[0mself\u001b[0m\u001b[1;33m,\u001b[0m \u001b[1;33m*\u001b[0m\u001b[0margs\u001b[0m\u001b[1;33m,\u001b[0m \u001b[1;33m**\u001b[0m\u001b[0mkwargs\u001b[0m\u001b[1;33m)\u001b[0m\u001b[1;33m:\u001b[0m\u001b[1;33m\u001b[0m\u001b[1;33m\u001b[0m\u001b[0m\n\u001b[0;32m     35\u001b[0m         \u001b[0mcb\u001b[0m \u001b[1;33m=\u001b[0m \u001b[0mfunctools\u001b[0m\u001b[1;33m.\u001b[0m\u001b[0mpartial\u001b[0m\u001b[1;33m(\u001b[0m\u001b[0mgetattr\u001b[0m\u001b[1;33m(\u001b[0m\u001b[0mself\u001b[0m\u001b[1;33m.\u001b[0m\u001b[0m_file\u001b[0m\u001b[1;33m,\u001b[0m \u001b[0mattr_name\u001b[0m\u001b[1;33m)\u001b[0m\u001b[1;33m,\u001b[0m \u001b[1;33m*\u001b[0m\u001b[0margs\u001b[0m\u001b[1;33m,\u001b[0m \u001b[1;33m**\u001b[0m\u001b[0mkwargs\u001b[0m\u001b[1;33m)\u001b[0m\u001b[1;33m\u001b[0m\u001b[1;33m\u001b[0m\u001b[0m\n\u001b[1;32m---> 36\u001b[1;33m         \u001b[1;32mreturn\u001b[0m \u001b[1;33m(\u001b[0m\u001b[1;32myield\u001b[0m \u001b[1;32mfrom\u001b[0m \u001b[0mself\u001b[0m\u001b[1;33m.\u001b[0m\u001b[0m_loop\u001b[0m\u001b[1;33m.\u001b[0m\u001b[0mrun_in_executor\u001b[0m\u001b[1;33m(\u001b[0m\u001b[0mself\u001b[0m\u001b[1;33m.\u001b[0m\u001b[0m_executor\u001b[0m\u001b[1;33m,\u001b[0m \u001b[0mcb\u001b[0m\u001b[1;33m)\u001b[0m\u001b[1;33m)\u001b[0m\u001b[1;33m\u001b[0m\u001b[1;33m\u001b[0m\u001b[0m\n\u001b[0m\u001b[0;32m     37\u001b[0m \u001b[1;33m\u001b[0m\u001b[0m\n\u001b[0;32m     38\u001b[0m     \u001b[1;32mreturn\u001b[0m \u001b[0mmethod\u001b[0m\u001b[1;33m\u001b[0m\u001b[1;33m\u001b[0m\u001b[0m\n",
      "\u001b[1;31mCancelledError\u001b[0m: "
     ]
    }
   ],
   "source": [
    "await epDownload(config['ep']['url'], config['ep']['path'])"
   ]
  },
  {
   "cell_type": "code",
   "execution_count": 37,
   "metadata": {},
   "outputs": [
    {
     "output_type": "error",
     "ename": "ZeroDivisionError",
     "evalue": "integer division or modulo by zero",
     "traceback": [
      "\u001b[1;31m---------------------------------------------------------------------------\u001b[0m",
      "\u001b[1;31mZeroDivisionError\u001b[0m                         Traceback (most recent call last)",
      "\u001b[1;32m<ipython-input-37-5d2de8fe0392>\u001b[0m in \u001b[0;36m<module>\u001b[1;34m\u001b[0m\n\u001b[1;32m----> 1\u001b[1;33m \u001b[1;36m0\u001b[0m\u001b[1;33m%\u001b[0m\u001b[1;36m0\u001b[0m\u001b[1;33m\u001b[0m\u001b[1;33m\u001b[0m\u001b[0m\n\u001b[0m",
      "\u001b[1;31mZeroDivisionError\u001b[0m: integer division or modulo by zero"
     ]
    }
   ],
   "source": [
    "0%0"
   ]
  },
  {
   "cell_type": "code",
   "execution_count": 38,
   "metadata": {},
   "outputs": [
    {
     "output_type": "execute_result",
     "data": {
      "text/plain": [
       "0.0"
      ]
     },
     "metadata": {},
     "execution_count": 38
    }
   ],
   "source": [
    "0/1"
   ]
  },
  {
   "cell_type": "code",
   "execution_count": 41,
   "metadata": {},
   "outputs": [],
   "source": [
    "# 중복제거 test\n",
    "# 중복제거 test\n",
    "tempPath = 'C:/Users/shsun/Documents/workspace/project/p1/f1_feed_change_min/data/feed/225456985373646/feed_225456985373646_temp.tsv'\n",
    "tempLoad = pd.read_csv(tempPath,\n",
    "            header=0, # header row                            \n",
    "            dtype=str, # string type 인식\n",
    "            sep='\\t', # 명시\n",
    "            # lineterminator='\\r',\n",
    "            error_bad_lines=False, # error skip\n",
    "            encoding='utf-8')\n"
   ]
  },
  {
   "cell_type": "code",
   "execution_count": 42,
   "metadata": {},
   "outputs": [
    {
     "output_type": "execute_result",
     "data": {
      "text/plain": [
       "7317167"
      ]
     },
     "metadata": {},
     "execution_count": 42
    }
   ],
   "source": [
    "print(tempLoad.shape[0])"
   ]
  },
  {
   "cell_type": "code",
   "execution_count": 44,
   "metadata": {},
   "outputs": [
    {
     "output_type": "stream",
     "name": "stdout",
     "text": [
      "6398343\n"
     ]
    }
   ],
   "source": [
    "tempLoad_1 = tempLoad.drop_duplicates(['id'], keep='first')\n",
    "print(tempLoad_1.shape[0])"
   ]
  },
  {
   "cell_type": "code",
   "execution_count": 90,
   "metadata": {},
   "outputs": [
    {
     "output_type": "stream",
     "name": "stdout",
     "text": [
      "2\nvalue1\nvalue2\n"
     ]
    }
   ],
   "source": [
    "testDict = {\"id1\":{\"path\":\"value1\"}, \"id2\":{\"path\":\"value2\"}}\n",
    "print(len(testDict.keys()))    \n",
    "for value in testDict.keys() :\n",
    "    print(testDict[value]['path'])\n",
    "    "
   ]
  }
 ]
}